{
 "cells": [
  {
   "cell_type": "markdown",
   "metadata": {},
   "source": [
    "<h1><center>Credit Risk Analysis using IBM PowerAI Snap ML</center></h1>"
   ]
  },
  {
   "cell_type": "markdown",
   "metadata": {},
   "source": [
    "In this example we will train a Logistic Regression model on customers' credit history dataset, using scikit-learn, snapml, SnapBoost and XGBoost.\n",
    "Update device_ids list in LogisticRegression of snap_ml based on the number of GPUs available for you.\n",
    "\n",
    "To avoid 'kernel restart' problem increase CPU and memory for the jupyter environment (e.g. memory 10GB, CPU 100) and restart it"
   ]
  },
  {
   "cell_type": "code",
   "execution_count": 1,
   "metadata": {},
   "outputs": [],
   "source": [
    "#https://www.ibm.com/support/knowledgecenter/SS5SF7_1.7.0/navigation/wmlce_install.html\n",
    "#https://ibmsoe.github.io/snap-ml-doc/v1.6.0/manual.html\n",
    "\n",
    "#Make sure you are running this jupyter notebook in a conda environment (recommended). \n",
    "#Steps on setting up the repo for WMLCE and conda env are in the next 3 lines and should be installed on the hostOS\n",
    "#x86 or POWER\n",
    "\n",
    "#conda config --prepend channels \\\n",
    "#https://public.dhe.ibm.com/ibmdl/export/pub/software/server/ibm-ai/conda/\n",
    "#conda create -y -n my-170-env python=3.6 powerai=1.7.0\n",
    "\n",
    "#Run the same command if your cuda version is NOT 10.2\n",
    "#!conda install cudatoolkit\n",
    "\n",
    "#Make sure you installed these packages, else you can uncomment and do it here.\n",
    "#!conda install -y scikit-learn\n",
    "#!conda install -y seaborn\n",
    "#!conda install -y py-xgboost-gpu\n",
    "#SnapML installation\n",
    "#!conda install -y pai4sk\n"
   ]
  },
  {
   "cell_type": "markdown",
   "metadata": {},
   "source": [
    "### Download input dataset of customers' information\n",
    "\n",
    "Two wget commands are given below for downloading input dataset - one for reduced dataset and another for bigger/full dataset. Many times better perfomance of snapML training is seen with bigger dataset.\n",
    "\n",
    "You can comment out downloading code below if running the same wget command more than once."
   ]
  },
  {
   "cell_type": "code",
   "execution_count": 14,
   "metadata": {},
   "outputs": [
    {
     "name": "stdout",
     "output_type": "stream",
     "text": [
      "File exists\n"
     ]
    }
   ],
   "source": [
    "# Many times better training time with snapML compared to sklearn with this full dataset but it's 1 GB\n",
    "# If it fails download the dataset manually and put it in the same folder as this notebook\n",
    "#!wget -Nc --load-cookies /tmp/cookies.txt \"https://docs.google.com/uc?export=download&confirm=$(wget --quiet --save-cookies /tmp/cookies.txt --keep-session-cookies --no-check-certificate 'https://docs.google.com/uc?export=download&id=1u_XXCFXfBmFwy5F7yzsrNHzuMK9oI_Tk' -O- | sed -rn 's/.*confirm=([0-9A-Za-z_]+).*/\\1\\n/p')&id=1u_XXCFXfBmFwy5F7yzsrNHzuMK9oI_Tk\" -O credit_customer_history.csv && rm -rf /tmp/cookies.txt\n",
    "import os.path\n",
    "exists = os.path.isfile('./credit_customer_history.csv')\n",
    "if exists:\n",
    "    print('File credit_customer_history.csv exists')\n",
    "else :\n",
    "# Many times better training time with snapML compared to sklearn with this full dataset (Broken)\n",
    "    !wget -O credit_customer_history.csv -nc https://ibm.box.com/shared/static/c84jns0hy2ty05t3c3a9c17ca1mxpe6s.csv\n",
    "\n",
    "# Download reduced dataset 100 MB (Broken)\n",
    "#!wget -O credit_customer_history.csv https://ibm.box.com/shared/static/tr7cz4drh7bwa8kbyw0erjfjh7fort0y.csv"
   ]
  },
  {
   "cell_type": "code",
   "execution_count": 109,
   "metadata": {},
   "outputs": [],
   "source": [
    "# Check your GPU(s). Make sure your GPU Driver is 440.X and CUDA is 10.2 "
   ]
  },
  {
   "cell_type": "code",
   "execution_count": 4,
   "metadata": {},
   "outputs": [
    {
     "name": "stdout",
     "output_type": "stream",
     "text": [
      "Thu Jun 11 06:38:47 2020       \r\n",
      "+-----------------------------------------------------------------------------+\r\n",
      "| NVIDIA-SMI 440.64.00    Driver Version: 440.64.00    CUDA Version: 10.2     |\r\n",
      "|-------------------------------+----------------------+----------------------+\r\n",
      "| GPU  Name        Persistence-M| Bus-Id        Disp.A | Volatile Uncorr. ECC |\r\n",
      "| Fan  Temp  Perf  Pwr:Usage/Cap|         Memory-Usage | GPU-Util  Compute M. |\r\n",
      "|===============================+======================+======================|\r\n",
      "|   0  Tesla P100-SXM2...  On   | 00000002:01:00.0 Off |                    0 |\r\n",
      "| N/A   38C    P0    32W / 300W |      0MiB / 16280MiB |      0%      Default |\r\n",
      "+-------------------------------+----------------------+----------------------+\r\n",
      "|   1  Tesla P100-SXM2...  On   | 00000003:01:00.0 Off |                    0 |\r\n",
      "| N/A   36C    P0    32W / 300W |      0MiB / 16280MiB |      0%      Default |\r\n",
      "+-------------------------------+----------------------+----------------------+\r\n",
      "|   2  Tesla P100-SXM2...  On   | 0000000A:01:00.0 Off |                    0 |\r\n",
      "| N/A   40C    P0    32W / 300W |      0MiB / 16280MiB |      0%      Default |\r\n",
      "+-------------------------------+----------------------+----------------------+\r\n",
      "|   3  Tesla P100-SXM2...  On   | 0000000B:01:00.0 Off |                    0 |\r\n",
      "| N/A   37C    P0    32W / 300W |      0MiB / 16280MiB |      0%      Default |\r\n",
      "+-------------------------------+----------------------+----------------------+\r\n",
      "                                                                               \r\n",
      "+-----------------------------------------------------------------------------+\r\n",
      "| Processes:                                                       GPU Memory |\r\n",
      "|  GPU       PID   Type   Process name                             Usage      |\r\n",
      "|=============================================================================|\r\n",
      "|  No running processes found                                                 |\r\n",
      "+-----------------------------------------------------------------------------+\r\n"
     ]
    }
   ],
   "source": [
    "!nvidia-smi"
   ]
  },
  {
   "cell_type": "markdown",
   "metadata": {},
   "source": [
    "### imports"
   ]
  },
  {
   "cell_type": "code",
   "execution_count": 6,
   "metadata": {},
   "outputs": [],
   "source": [
    "from __future__ import print_function\n",
    "import numpy as np\n",
    "import pandas as pd\n",
    "pd.options.display.max_columns = 999\n",
    "import matplotlib.pyplot as plt\n",
    "%matplotlib inline\n",
    "import sklearn\n",
    "from sklearn.model_selection import train_test_split, StratifiedKFold\n",
    "from sklearn.preprocessing import MinMaxScaler, LabelEncoder, normalize\n",
    "from sklearn.ensemble import RandomForestClassifier\n",
    "from sklearn.metrics import f1_score, accuracy_score, roc_curve, roc_auc_score\n",
    "from scipy.stats import chi2_contingency,ttest_ind\n",
    "from sklearn.utils import shuffle\n",
    "import time\n",
    "\n",
    "import warnings\n",
    "warnings.filterwarnings('ignore')\n"
   ]
  },
  {
   "cell_type": "code",
   "execution_count": 7,
   "metadata": {},
   "outputs": [
    {
     "data": {
      "application/javascript": [
       "IPython.OutputArea.prototype._should_scroll = function(lines) {\n",
       "    return false;\n",
       "}\n"
      ],
      "text/plain": [
       "<IPython.core.display.Javascript object>"
      ]
     },
     "metadata": {},
     "output_type": "display_data"
    }
   ],
   "source": [
    "%%javascript\n",
    "IPython.OutputArea.prototype._should_scroll = function(lines) {\n",
    "    return false;\n",
    "}\n"
   ]
  },
  {
   "cell_type": "code",
   "execution_count": 8,
   "metadata": {},
   "outputs": [
    {
     "name": "stdout",
     "output_type": "stream",
     "text": [
      "mv: 'credit_customer_history.csv' and 'credit_customer_history.csv' are the same file\r\n"
     ]
    }
   ],
   "source": [
    "!mv credit_customer_history*csv credit_customer_history.csv"
   ]
  },
  {
   "cell_type": "markdown",
   "metadata": {},
   "source": [
    "# Dataset Visualization\n",
    "\n",
    "\n",
    "Let's take a quick look at the dataset.\n"
   ]
  },
  {
   "cell_type": "code",
   "execution_count": 11,
   "metadata": {
    "scrolled": true
   },
   "outputs": [
    {
     "name": "stdout",
     "output_type": "stream",
     "text": [
      "There are 10000000 observations in the customer history dataset.\n",
      "There are 19 variables in the dataset.\n"
     ]
    },
    {
     "data": {
      "text/html": [
       "<div>\n",
       "<style scoped>\n",
       "    .dataframe tbody tr th:only-of-type {\n",
       "        vertical-align: middle;\n",
       "    }\n",
       "\n",
       "    .dataframe tbody tr th {\n",
       "        vertical-align: top;\n",
       "    }\n",
       "\n",
       "    .dataframe thead th {\n",
       "        text-align: right;\n",
       "    }\n",
       "</style>\n",
       "<table border=\"1\" class=\"dataframe\">\n",
       "  <thead>\n",
       "    <tr style=\"text-align: right;\">\n",
       "      <th></th>\n",
       "      <th>EMI_TENURE</th>\n",
       "      <th>CREDIT_HISTORY</th>\n",
       "      <th>TRANSACTION_CATEGORY</th>\n",
       "      <th>TRANSACTION_AMOUNT</th>\n",
       "      <th>ACCOUNT_TYPE</th>\n",
       "      <th>ACCOUNT_AGE</th>\n",
       "      <th>STATE</th>\n",
       "      <th>IS_URBAN</th>\n",
       "      <th>IS_STATE_BORDER</th>\n",
       "      <th>HAS_CO_APPLICANT</th>\n",
       "      <th>HAS_GUARANTOR</th>\n",
       "      <th>OWN_REAL_ESTATE</th>\n",
       "      <th>OTHER_INSTALMENT_PLAN</th>\n",
       "      <th>OWN_RESIDENCE</th>\n",
       "      <th>NUMBER_CREDITS</th>\n",
       "      <th>RFM_SCORE</th>\n",
       "      <th>OWN_CAR</th>\n",
       "      <th>SHIP_INTERNATIONAL</th>\n",
       "      <th>IS_DEFAULT</th>\n",
       "    </tr>\n",
       "  </thead>\n",
       "  <tbody>\n",
       "    <tr>\n",
       "      <th>0</th>\n",
       "      <td>77</td>\n",
       "      <td>EXISTING CREDITS PAID BACK</td>\n",
       "      <td>EDUCATION</td>\n",
       "      <td>27630</td>\n",
       "      <td>UNKNOWN/NONE</td>\n",
       "      <td>above 7 YRS</td>\n",
       "      <td>CT</td>\n",
       "      <td>NO</td>\n",
       "      <td>YES</td>\n",
       "      <td>YES</td>\n",
       "      <td>YES</td>\n",
       "      <td>NO</td>\n",
       "      <td>YES</td>\n",
       "      <td>NO</td>\n",
       "      <td>0</td>\n",
       "      <td>4</td>\n",
       "      <td>NO</td>\n",
       "      <td>NO</td>\n",
       "      <td>No</td>\n",
       "    </tr>\n",
       "    <tr>\n",
       "      <th>1</th>\n",
       "      <td>119</td>\n",
       "      <td>EXISTING CREDITS PAID BACK</td>\n",
       "      <td>ELECTRONICS</td>\n",
       "      <td>31314</td>\n",
       "      <td>above 1000 K USD</td>\n",
       "      <td>4 to 7 YRS</td>\n",
       "      <td>CT</td>\n",
       "      <td>YES</td>\n",
       "      <td>YES</td>\n",
       "      <td>YES</td>\n",
       "      <td>YES</td>\n",
       "      <td>NO</td>\n",
       "      <td>NO</td>\n",
       "      <td>YES</td>\n",
       "      <td>0</td>\n",
       "      <td>3</td>\n",
       "      <td>YES</td>\n",
       "      <td>YES</td>\n",
       "      <td>No</td>\n",
       "    </tr>\n",
       "    <tr>\n",
       "      <th>2</th>\n",
       "      <td>84</td>\n",
       "      <td>EXISTING CREDITS PAID BACK</td>\n",
       "      <td>FURNITURE</td>\n",
       "      <td>27630</td>\n",
       "      <td>above 1000 K USD</td>\n",
       "      <td>4 to 7 YRS</td>\n",
       "      <td>PA</td>\n",
       "      <td>NO</td>\n",
       "      <td>NO</td>\n",
       "      <td>YES</td>\n",
       "      <td>YES</td>\n",
       "      <td>YES</td>\n",
       "      <td>NO</td>\n",
       "      <td>YES</td>\n",
       "      <td>0</td>\n",
       "      <td>3</td>\n",
       "      <td>YES</td>\n",
       "      <td>YES</td>\n",
       "      <td>No</td>\n",
       "    </tr>\n",
       "    <tr>\n",
       "      <th>3</th>\n",
       "      <td>119</td>\n",
       "      <td>DELAY IN PAST</td>\n",
       "      <td>FURNITURE</td>\n",
       "      <td>33156</td>\n",
       "      <td>above 1000 K USD</td>\n",
       "      <td>up to 1 YR</td>\n",
       "      <td>PA</td>\n",
       "      <td>YES</td>\n",
       "      <td>NO</td>\n",
       "      <td>YES</td>\n",
       "      <td>NO</td>\n",
       "      <td>NO</td>\n",
       "      <td>NO</td>\n",
       "      <td>YES</td>\n",
       "      <td>0</td>\n",
       "      <td>3</td>\n",
       "      <td>NO</td>\n",
       "      <td>NO</td>\n",
       "      <td>Yes</td>\n",
       "    </tr>\n",
       "    <tr>\n",
       "      <th>4</th>\n",
       "      <td>105</td>\n",
       "      <td>DELAY IN PAST</td>\n",
       "      <td>FURNITURE</td>\n",
       "      <td>23946</td>\n",
       "      <td>above 1000 K USD</td>\n",
       "      <td>up to 1 YR</td>\n",
       "      <td>CT</td>\n",
       "      <td>NO</td>\n",
       "      <td>YES</td>\n",
       "      <td>YES</td>\n",
       "      <td>YES</td>\n",
       "      <td>YES</td>\n",
       "      <td>YES</td>\n",
       "      <td>NO</td>\n",
       "      <td>0</td>\n",
       "      <td>3</td>\n",
       "      <td>YES</td>\n",
       "      <td>YES</td>\n",
       "      <td>No</td>\n",
       "    </tr>\n",
       "  </tbody>\n",
       "</table>\n",
       "</div>"
      ],
      "text/plain": [
       "   EMI_TENURE              CREDIT_HISTORY TRANSACTION_CATEGORY  \\\n",
       "0          77  EXISTING CREDITS PAID BACK            EDUCATION   \n",
       "1         119  EXISTING CREDITS PAID BACK          ELECTRONICS   \n",
       "2          84  EXISTING CREDITS PAID BACK            FURNITURE   \n",
       "3         119               DELAY IN PAST            FURNITURE   \n",
       "4         105               DELAY IN PAST            FURNITURE   \n",
       "\n",
       "   TRANSACTION_AMOUNT      ACCOUNT_TYPE  ACCOUNT_AGE STATE IS_URBAN  \\\n",
       "0               27630      UNKNOWN/NONE  above 7 YRS    CT       NO   \n",
       "1               31314  above 1000 K USD   4 to 7 YRS    CT      YES   \n",
       "2               27630  above 1000 K USD   4 to 7 YRS    PA       NO   \n",
       "3               33156  above 1000 K USD   up to 1 YR    PA      YES   \n",
       "4               23946  above 1000 K USD   up to 1 YR    CT       NO   \n",
       "\n",
       "  IS_STATE_BORDER HAS_CO_APPLICANT HAS_GUARANTOR OWN_REAL_ESTATE  \\\n",
       "0             YES              YES           YES              NO   \n",
       "1             YES              YES           YES              NO   \n",
       "2              NO              YES           YES             YES   \n",
       "3              NO              YES            NO              NO   \n",
       "4             YES              YES           YES             YES   \n",
       "\n",
       "  OTHER_INSTALMENT_PLAN OWN_RESIDENCE  NUMBER_CREDITS  RFM_SCORE OWN_CAR  \\\n",
       "0                   YES            NO               0          4      NO   \n",
       "1                    NO           YES               0          3     YES   \n",
       "2                    NO           YES               0          3     YES   \n",
       "3                    NO           YES               0          3      NO   \n",
       "4                   YES            NO               0          3     YES   \n",
       "\n",
       "  SHIP_INTERNATIONAL IS_DEFAULT  \n",
       "0                 NO         No  \n",
       "1                YES         No  \n",
       "2                YES         No  \n",
       "3                 NO        Yes  \n",
       "4                YES         No  "
      ]
     },
     "execution_count": 11,
     "metadata": {},
     "output_type": "execute_result"
    }
   ],
   "source": [
    "cust_pd_full = pd.read_csv('./credit_customer_history.csv')\n",
    "\n",
    "rows=1000000\n",
    "cust_pd = cust_pd_full.head(rows)\n",
    "print(\"There are \" + str(len(cust_pd_full)) + \" observations in the customer history dataset.\")\n",
    "print(\"There are \" + str(len(cust_pd_full.columns)) + \" variables in the dataset.\")\n",
    "\n",
    "cust_pd.head()"
   ]
  },
  {
   "cell_type": "markdown",
   "metadata": {},
   "source": [
    "# distribution of output variable default"
   ]
  },
  {
   "cell_type": "code",
   "execution_count": 15,
   "metadata": {},
   "outputs": [
    {
     "data": {
      "text/plain": [
       "<matplotlib.legend.Legend at 0x7fbaaea85990>"
      ]
     },
     "execution_count": 15,
     "metadata": {},
     "output_type": "execute_result"
    },
    {
     "data": {
      "image/png": "[encoded data removed]",
      "text/plain": [
       "<Figure size 432x288 with 1 Axes>"
      ]
     },
     "metadata": {},
     "output_type": "display_data"
    }
   ],
   "source": [
    "#cust_pd.IS_DEFAULT.value_counts().plot(kind='pie',colormap='winter',autopct='%1.0f%%').legend(bbox_to_anchor=(1.2, 0.6))\n",
    "cust_pd.IS_DEFAULT.value_counts().plot(kind='pie',autopct='%1.0f%%').legend(bbox_to_anchor=(1.2, 0.6))"
   ]
  },
  {
   "cell_type": "markdown",
   "metadata": {
    "collapsed": true
   },
   "source": [
    "# Default by Credit Program"
   ]
  },
  {
   "cell_type": "code",
   "execution_count": 16,
   "metadata": {},
   "outputs": [
    {
     "data": {
      "text/plain": [
       "<matplotlib.legend.Legend at 0x7fbaaea98190>"
      ]
     },
     "execution_count": 16,
     "metadata": {},
     "output_type": "execute_result"
    },
    {
     "data": {
      "image/png": "[encoded data removed]",
      "text/plain": [
       "<Figure size 432x288 with 1 Axes>"
      ]
     },
     "metadata": {},
     "output_type": "display_data"
    }
   ],
   "source": [
    "cust_pd.TRANSACTION_CATEGORY.value_counts().plot(kind='pie',autopct='%1.0f%%').legend(bbox_to_anchor=(1.2, 0.7))"
   ]
  },
  {
   "cell_type": "markdown",
   "metadata": {},
   "source": [
    "* Top 3 credit programs with most Merchants are Electronics(28%), New Car(23.4%) and Furniture(18.1%)."
   ]
  },
  {
   "cell_type": "code",
   "execution_count": 17,
   "metadata": {
    "pixiedust": {
     "displayParams": {
      "aggregation": "COUNT",
      "chartsize": "100",
      "handlerId": "pieChart",
      "keyFields": "IS_DEFAULT",
      "rowCount": "1000"
     }
    },
    "scrolled": true
   },
   "outputs": [
    {
     "data": {
      "text/plain": [
       "<matplotlib.legend.Legend at 0x7fbaaeabef50>"
      ]
     },
     "execution_count": 17,
     "metadata": {},
     "output_type": "execute_result"
    },
    {
     "data": {
      "image/png": "[encoded data removed]",
      "text/plain": [
       "<Figure size 432x288 with 1 Axes>"
      ]
     },
     "metadata": {
      "needs_background": "light"
     },
     "output_type": "display_data"
    }
   ],
   "source": [
    "defaults_by_credit_program = cust_pd.groupby(['TRANSACTION_CATEGORY','IS_DEFAULT']).size()\n",
    "percentages = defaults_by_credit_program.groupby(level=0).apply(lambda x:100 * x / float(x.sum()))\n",
    "percentages.unstack().plot(kind='bar',stacked=True,color=['blue','red'],grid=False).legend(bbox_to_anchor=(1.2, 0.5))"
   ]
  },
  {
   "cell_type": "markdown",
   "metadata": {},
   "source": [
    "* Top 3 credit programs with high default rate are Education(44%), New Car(38%), and Retraining(35.1%)"
   ]
  },
  {
   "cell_type": "markdown",
   "metadata": {},
   "source": [
    "\n",
    "# Default by IS_STATE_BORDER\n"
   ]
  },
  {
   "cell_type": "code",
   "execution_count": 18,
   "metadata": {
    "scrolled": true
   },
   "outputs": [
    {
     "data": {
      "text/plain": [
       "<matplotlib.legend.Legend at 0x7fbaae9dd0d0>"
      ]
     },
     "execution_count": 18,
     "metadata": {},
     "output_type": "execute_result"
    },
    {
     "data": {
      "image/png": "[encoded data removed]",
      "text/plain": [
       "<Figure size 432x288 with 1 Axes>"
      ]
     },
     "metadata": {},
     "output_type": "display_data"
    }
   ],
   "source": [
    "cust_pd.IS_STATE_BORDER.value_counts().plot(kind='pie',autopct='%1.0f%%').legend(bbox_to_anchor=(1.2, 0.5))"
   ]
  },
  {
   "cell_type": "code",
   "execution_count": 19,
   "metadata": {},
   "outputs": [
    {
     "data": {
      "text/plain": [
       "<matplotlib.legend.Legend at 0x7fbaaea2ef90>"
      ]
     },
     "execution_count": 19,
     "metadata": {},
     "output_type": "execute_result"
    },
    {
     "data": {
      "image/png": "[encoded data removed]",
      "text/plain": [
       "<Figure size 432x288 with 1 Axes>"
      ]
     },
     "metadata": {
      "needs_background": "light"
     },
     "output_type": "display_data"
    }
   ],
   "source": [
    "defaults_by_xborder = cust_pd.groupby(['IS_STATE_BORDER','IS_DEFAULT']).size()\n",
    "percentages = defaults_by_xborder.groupby(level=0).apply(lambda x:100 * x / float(x.sum()))\n",
    "percentages.unstack().plot(kind='bar',stacked=True,  color=['blue','red'], grid=False).legend(bbox_to_anchor=(1.2, 0.5))"
   ]
  },
  {
   "cell_type": "markdown",
   "metadata": {},
   "source": [
    "# HAS_CO_APPLICANT vs. IS_DEFAULT"
   ]
  },
  {
   "cell_type": "code",
   "execution_count": 20,
   "metadata": {
    "scrolled": true
   },
   "outputs": [
    {
     "data": {
      "text/plain": [
       "<matplotlib.legend.Legend at 0x7fbaae912810>"
      ]
     },
     "execution_count": 20,
     "metadata": {},
     "output_type": "execute_result"
    },
    {
     "data": {
      "image/png": "[encoded data removed]",
      "text/plain": [
       "<Figure size 432x288 with 1 Axes>"
      ]
     },
     "metadata": {
      "needs_background": "light"
     },
     "output_type": "display_data"
    }
   ],
   "source": [
    "defaults_by_rent = cust_pd.groupby(['HAS_CO_APPLICANT','IS_DEFAULT']).size()\n",
    "percentages = defaults_by_rent.groupby(level=0).apply(lambda x:100 * x / float(x.sum()))\n",
    "percentages.unstack().plot(kind='bar',stacked=True,  color=['blue','red'], grid=False).legend(bbox_to_anchor=(1.2, 0.5))"
   ]
  },
  {
   "cell_type": "markdown",
   "metadata": {},
   "source": [
    "From this stacked bar chart, we can see that Merchants who rent their residence have higher default rate."
   ]
  },
  {
   "cell_type": "markdown",
   "metadata": {},
   "source": [
    "# CREDIT_HISTORY vs. IS_DEFAULT"
   ]
  },
  {
   "cell_type": "code",
   "execution_count": 21,
   "metadata": {},
   "outputs": [
    {
     "data": {
      "text/plain": [
       "<matplotlib.axes._subplots.AxesSubplot at 0x7fbaaa5da4d0>"
      ]
     },
     "execution_count": 21,
     "metadata": {},
     "output_type": "execute_result"
    },
    {
     "data": {
      "image/png": "[encoded data removed]",
      "text/plain": [
       "<Figure size 432x288 with 1 Axes>"
      ]
     },
     "metadata": {
      "needs_background": "light"
     },
     "output_type": "display_data"
    }
   ],
   "source": [
    "cust_pd.CREDIT_HISTORY.value_counts().plot(kind='bar', title='CREDIT_HISTORY')"
   ]
  },
  {
   "cell_type": "code",
   "execution_count": 22,
   "metadata": {
    "scrolled": true
   },
   "outputs": [
    {
     "data": {
      "text/plain": [
       "<matplotlib.legend.Legend at 0x7fbaaa632750>"
      ]
     },
     "execution_count": 22,
     "metadata": {},
     "output_type": "execute_result"
    },
    {
     "data": {
      "image/png": "[encoded data removed]",
      "text/plain": [
       "<Figure size 432x288 with 1 Axes>"
      ]
     },
     "metadata": {
      "needs_background": "light"
     },
     "output_type": "display_data"
    }
   ],
   "source": [
    "defaults_by_history = cust_pd.groupby(['CREDIT_HISTORY','IS_DEFAULT']).size()\n",
    "percentages = defaults_by_history.groupby(level=0).apply(lambda x:100 * x / float(x.sum()))\n",
    "percentages.unstack().plot(kind='bar',stacked=True,color=['blue','red'],grid=False).legend(bbox_to_anchor=(1.2, 0.5))"
   ]
  },
  {
   "cell_type": "markdown",
   "metadata": {},
   "source": [
    "# Data Preparation"
   ]
  },
  {
   "cell_type": "code",
   "execution_count": 23,
   "metadata": {},
   "outputs": [
    {
     "data": {
      "text/html": [
       "<div>\n",
       "<style scoped>\n",
       "    .dataframe tbody tr th:only-of-type {\n",
       "        vertical-align: middle;\n",
       "    }\n",
       "\n",
       "    .dataframe tbody tr th {\n",
       "        vertical-align: top;\n",
       "    }\n",
       "\n",
       "    .dataframe thead th {\n",
       "        text-align: right;\n",
       "    }\n",
       "</style>\n",
       "<table border=\"1\" class=\"dataframe\">\n",
       "  <thead>\n",
       "    <tr style=\"text-align: right;\">\n",
       "      <th></th>\n",
       "      <th>EMI_TENURE</th>\n",
       "      <th>CREDIT_HISTORY</th>\n",
       "      <th>TRANSACTION_CATEGORY</th>\n",
       "      <th>TRANSACTION_AMOUNT</th>\n",
       "      <th>ACCOUNT_TYPE</th>\n",
       "      <th>ACCOUNT_AGE</th>\n",
       "      <th>STATE</th>\n",
       "      <th>IS_URBAN</th>\n",
       "      <th>IS_STATE_BORDER</th>\n",
       "      <th>HAS_CO_APPLICANT</th>\n",
       "      <th>HAS_GUARANTOR</th>\n",
       "      <th>OWN_REAL_ESTATE</th>\n",
       "      <th>OTHER_INSTALMENT_PLAN</th>\n",
       "      <th>OWN_RESIDENCE</th>\n",
       "      <th>NUMBER_CREDITS</th>\n",
       "      <th>RFM_SCORE</th>\n",
       "      <th>OWN_CAR</th>\n",
       "      <th>SHIP_INTERNATIONAL</th>\n",
       "      <th>IS_DEFAULT</th>\n",
       "    </tr>\n",
       "  </thead>\n",
       "  <tbody>\n",
       "    <tr>\n",
       "      <th>0</th>\n",
       "      <td>77</td>\n",
       "      <td>EXISTING CREDITS PAID BACK</td>\n",
       "      <td>EDUCATION</td>\n",
       "      <td>27630</td>\n",
       "      <td>UNKNOWN/NONE</td>\n",
       "      <td>above 7 YRS</td>\n",
       "      <td>CT</td>\n",
       "      <td>NO</td>\n",
       "      <td>YES</td>\n",
       "      <td>YES</td>\n",
       "      <td>YES</td>\n",
       "      <td>NO</td>\n",
       "      <td>YES</td>\n",
       "      <td>NO</td>\n",
       "      <td>0</td>\n",
       "      <td>4</td>\n",
       "      <td>NO</td>\n",
       "      <td>NO</td>\n",
       "      <td>No</td>\n",
       "    </tr>\n",
       "    <tr>\n",
       "      <th>1</th>\n",
       "      <td>119</td>\n",
       "      <td>EXISTING CREDITS PAID BACK</td>\n",
       "      <td>ELECTRONICS</td>\n",
       "      <td>31314</td>\n",
       "      <td>above 1000 K USD</td>\n",
       "      <td>4 to 7 YRS</td>\n",
       "      <td>CT</td>\n",
       "      <td>YES</td>\n",
       "      <td>YES</td>\n",
       "      <td>YES</td>\n",
       "      <td>YES</td>\n",
       "      <td>NO</td>\n",
       "      <td>NO</td>\n",
       "      <td>YES</td>\n",
       "      <td>0</td>\n",
       "      <td>3</td>\n",
       "      <td>YES</td>\n",
       "      <td>YES</td>\n",
       "      <td>No</td>\n",
       "    </tr>\n",
       "    <tr>\n",
       "      <th>2</th>\n",
       "      <td>84</td>\n",
       "      <td>EXISTING CREDITS PAID BACK</td>\n",
       "      <td>FURNITURE</td>\n",
       "      <td>27630</td>\n",
       "      <td>above 1000 K USD</td>\n",
       "      <td>4 to 7 YRS</td>\n",
       "      <td>PA</td>\n",
       "      <td>NO</td>\n",
       "      <td>NO</td>\n",
       "      <td>YES</td>\n",
       "      <td>YES</td>\n",
       "      <td>YES</td>\n",
       "      <td>NO</td>\n",
       "      <td>YES</td>\n",
       "      <td>0</td>\n",
       "      <td>3</td>\n",
       "      <td>YES</td>\n",
       "      <td>YES</td>\n",
       "      <td>No</td>\n",
       "    </tr>\n",
       "    <tr>\n",
       "      <th>3</th>\n",
       "      <td>119</td>\n",
       "      <td>DELAY IN PAST</td>\n",
       "      <td>FURNITURE</td>\n",
       "      <td>33156</td>\n",
       "      <td>above 1000 K USD</td>\n",
       "      <td>up to 1 YR</td>\n",
       "      <td>PA</td>\n",
       "      <td>YES</td>\n",
       "      <td>NO</td>\n",
       "      <td>YES</td>\n",
       "      <td>NO</td>\n",
       "      <td>NO</td>\n",
       "      <td>NO</td>\n",
       "      <td>YES</td>\n",
       "      <td>0</td>\n",
       "      <td>3</td>\n",
       "      <td>NO</td>\n",
       "      <td>NO</td>\n",
       "      <td>Yes</td>\n",
       "    </tr>\n",
       "    <tr>\n",
       "      <th>4</th>\n",
       "      <td>105</td>\n",
       "      <td>DELAY IN PAST</td>\n",
       "      <td>FURNITURE</td>\n",
       "      <td>23946</td>\n",
       "      <td>above 1000 K USD</td>\n",
       "      <td>up to 1 YR</td>\n",
       "      <td>CT</td>\n",
       "      <td>NO</td>\n",
       "      <td>YES</td>\n",
       "      <td>YES</td>\n",
       "      <td>YES</td>\n",
       "      <td>YES</td>\n",
       "      <td>YES</td>\n",
       "      <td>NO</td>\n",
       "      <td>0</td>\n",
       "      <td>3</td>\n",
       "      <td>YES</td>\n",
       "      <td>YES</td>\n",
       "      <td>No</td>\n",
       "    </tr>\n",
       "  </tbody>\n",
       "</table>\n",
       "</div>"
      ],
      "text/plain": [
       "   EMI_TENURE              CREDIT_HISTORY TRANSACTION_CATEGORY  \\\n",
       "0          77  EXISTING CREDITS PAID BACK            EDUCATION   \n",
       "1         119  EXISTING CREDITS PAID BACK          ELECTRONICS   \n",
       "2          84  EXISTING CREDITS PAID BACK            FURNITURE   \n",
       "3         119               DELAY IN PAST            FURNITURE   \n",
       "4         105               DELAY IN PAST            FURNITURE   \n",
       "\n",
       "   TRANSACTION_AMOUNT      ACCOUNT_TYPE  ACCOUNT_AGE STATE IS_URBAN  \\\n",
       "0               27630      UNKNOWN/NONE  above 7 YRS    CT       NO   \n",
       "1               31314  above 1000 K USD   4 to 7 YRS    CT      YES   \n",
       "2               27630  above 1000 K USD   4 to 7 YRS    PA       NO   \n",
       "3               33156  above 1000 K USD   up to 1 YR    PA      YES   \n",
       "4               23946  above 1000 K USD   up to 1 YR    CT       NO   \n",
       "\n",
       "  IS_STATE_BORDER HAS_CO_APPLICANT HAS_GUARANTOR OWN_REAL_ESTATE  \\\n",
       "0             YES              YES           YES              NO   \n",
       "1             YES              YES           YES              NO   \n",
       "2              NO              YES           YES             YES   \n",
       "3              NO              YES            NO              NO   \n",
       "4             YES              YES           YES             YES   \n",
       "\n",
       "  OTHER_INSTALMENT_PLAN OWN_RESIDENCE  NUMBER_CREDITS  RFM_SCORE OWN_CAR  \\\n",
       "0                   YES            NO               0          4      NO   \n",
       "1                    NO           YES               0          3     YES   \n",
       "2                    NO           YES               0          3     YES   \n",
       "3                    NO           YES               0          3      NO   \n",
       "4                   YES            NO               0          3     YES   \n",
       "\n",
       "  SHIP_INTERNATIONAL IS_DEFAULT  \n",
       "0                 NO         No  \n",
       "1                YES         No  \n",
       "2                YES         No  \n",
       "3                 NO        Yes  \n",
       "4                YES         No  "
      ]
     },
     "execution_count": 23,
     "metadata": {},
     "output_type": "execute_result"
    }
   ],
   "source": [
    "#cust_pd = cust_pd.sort_values(['IS_DEFAULT'],ascending=[False])\n",
    "#cust_pd = shuffle(cust_pd)\n",
    "cust_pd = cust_pd_full\n",
    "cust_pd.head()\n"
   ]
  },
  {
   "cell_type": "markdown",
   "metadata": {},
   "source": [
    "## Split Dataframe into Features and Label"
   ]
  },
  {
   "cell_type": "code",
   "execution_count": 24,
   "metadata": {},
   "outputs": [
    {
     "name": "stdout",
     "output_type": "stream",
     "text": [
      "cust_pd_X.shape= (10000000, 18) cust_pd_Y.shape= (10000000, 1)\n"
     ]
    }
   ],
   "source": [
    "cust_pd_Y = cust_pd[['IS_DEFAULT']]\n",
    "cust_pd_X = cust_pd.drop(['IS_DEFAULT'],axis=1)\n",
    "\n",
    "print('cust_pd_X.shape=', cust_pd_X.shape, 'cust_pd_Y.shape=', cust_pd_Y.shape)\n"
   ]
  },
  {
   "cell_type": "markdown",
   "metadata": {},
   "source": [
    "## Transform Label"
   ]
  },
  {
   "cell_type": "code",
   "execution_count": 25,
   "metadata": {},
   "outputs": [
    {
     "data": {
      "text/html": [
       "<div>\n",
       "<style scoped>\n",
       "    .dataframe tbody tr th:only-of-type {\n",
       "        vertical-align: middle;\n",
       "    }\n",
       "\n",
       "    .dataframe tbody tr th {\n",
       "        vertical-align: top;\n",
       "    }\n",
       "\n",
       "    .dataframe thead th {\n",
       "        text-align: right;\n",
       "    }\n",
       "</style>\n",
       "<table border=\"1\" class=\"dataframe\">\n",
       "  <thead>\n",
       "    <tr style=\"text-align: right;\">\n",
       "      <th></th>\n",
       "      <th>IS_DEFAULT</th>\n",
       "    </tr>\n",
       "  </thead>\n",
       "  <tbody>\n",
       "    <tr>\n",
       "      <th>0</th>\n",
       "      <td>No</td>\n",
       "    </tr>\n",
       "    <tr>\n",
       "      <th>1</th>\n",
       "      <td>No</td>\n",
       "    </tr>\n",
       "    <tr>\n",
       "      <th>2</th>\n",
       "      <td>No</td>\n",
       "    </tr>\n",
       "    <tr>\n",
       "      <th>3</th>\n",
       "      <td>Yes</td>\n",
       "    </tr>\n",
       "    <tr>\n",
       "      <th>4</th>\n",
       "      <td>No</td>\n",
       "    </tr>\n",
       "  </tbody>\n",
       "</table>\n",
       "</div>"
      ],
      "text/plain": [
       "  IS_DEFAULT\n",
       "0         No\n",
       "1         No\n",
       "2         No\n",
       "3        Yes\n",
       "4         No"
      ]
     },
     "execution_count": 25,
     "metadata": {},
     "output_type": "execute_result"
    }
   ],
   "source": [
    "cust_pd_Y.head()"
   ]
  },
  {
   "cell_type": "code",
   "execution_count": 26,
   "metadata": {},
   "outputs": [
    {
     "data": {
      "text/html": [
       "<div>\n",
       "<style scoped>\n",
       "    .dataframe tbody tr th:only-of-type {\n",
       "        vertical-align: middle;\n",
       "    }\n",
       "\n",
       "    .dataframe tbody tr th {\n",
       "        vertical-align: top;\n",
       "    }\n",
       "\n",
       "    .dataframe thead th {\n",
       "        text-align: right;\n",
       "    }\n",
       "</style>\n",
       "<table border=\"1\" class=\"dataframe\">\n",
       "  <thead>\n",
       "    <tr style=\"text-align: right;\">\n",
       "      <th></th>\n",
       "      <th>IS_DEFAULT</th>\n",
       "    </tr>\n",
       "  </thead>\n",
       "  <tbody>\n",
       "    <tr>\n",
       "      <th>0</th>\n",
       "      <td>0</td>\n",
       "    </tr>\n",
       "    <tr>\n",
       "      <th>1</th>\n",
       "      <td>0</td>\n",
       "    </tr>\n",
       "    <tr>\n",
       "      <th>2</th>\n",
       "      <td>0</td>\n",
       "    </tr>\n",
       "    <tr>\n",
       "      <th>3</th>\n",
       "      <td>1</td>\n",
       "    </tr>\n",
       "    <tr>\n",
       "      <th>4</th>\n",
       "      <td>0</td>\n",
       "    </tr>\n",
       "  </tbody>\n",
       "</table>\n",
       "</div>"
      ],
      "text/plain": [
       "   IS_DEFAULT\n",
       "0           0\n",
       "1           0\n",
       "2           0\n",
       "3           1\n",
       "4           0"
      ]
     },
     "execution_count": 26,
     "metadata": {},
     "output_type": "execute_result"
    }
   ],
   "source": [
    "le = LabelEncoder()\n",
    "cust_pd_Y['IS_DEFAULT'] = le.fit_transform(cust_pd_Y['IS_DEFAULT'])\n",
    "cust_pd_Y.head()"
   ]
  },
  {
   "cell_type": "markdown",
   "metadata": {},
   "source": [
    "## Transform Features"
   ]
  },
  {
   "cell_type": "code",
   "execution_count": 27,
   "metadata": {},
   "outputs": [
    {
     "name": "stdout",
     "output_type": "stream",
     "text": [
      "features df shape =  (10000000, 18)\n"
     ]
    },
    {
     "data": {
      "text/html": [
       "<div>\n",
       "<style scoped>\n",
       "    .dataframe tbody tr th:only-of-type {\n",
       "        vertical-align: middle;\n",
       "    }\n",
       "\n",
       "    .dataframe tbody tr th {\n",
       "        vertical-align: top;\n",
       "    }\n",
       "\n",
       "    .dataframe thead th {\n",
       "        text-align: right;\n",
       "    }\n",
       "</style>\n",
       "<table border=\"1\" class=\"dataframe\">\n",
       "  <thead>\n",
       "    <tr style=\"text-align: right;\">\n",
       "      <th></th>\n",
       "      <th>EMI_TENURE</th>\n",
       "      <th>CREDIT_HISTORY</th>\n",
       "      <th>TRANSACTION_CATEGORY</th>\n",
       "      <th>TRANSACTION_AMOUNT</th>\n",
       "      <th>ACCOUNT_TYPE</th>\n",
       "      <th>ACCOUNT_AGE</th>\n",
       "      <th>STATE</th>\n",
       "      <th>IS_URBAN</th>\n",
       "      <th>IS_STATE_BORDER</th>\n",
       "      <th>HAS_CO_APPLICANT</th>\n",
       "      <th>HAS_GUARANTOR</th>\n",
       "      <th>OWN_REAL_ESTATE</th>\n",
       "      <th>OTHER_INSTALMENT_PLAN</th>\n",
       "      <th>OWN_RESIDENCE</th>\n",
       "      <th>NUMBER_CREDITS</th>\n",
       "      <th>RFM_SCORE</th>\n",
       "      <th>OWN_CAR</th>\n",
       "      <th>SHIP_INTERNATIONAL</th>\n",
       "    </tr>\n",
       "  </thead>\n",
       "  <tbody>\n",
       "    <tr>\n",
       "      <th>0</th>\n",
       "      <td>77</td>\n",
       "      <td>EXISTING CREDITS PAID BACK</td>\n",
       "      <td>EDUCATION</td>\n",
       "      <td>27630</td>\n",
       "      <td>UNKNOWN/NONE</td>\n",
       "      <td>above 7 YRS</td>\n",
       "      <td>CT</td>\n",
       "      <td>NO</td>\n",
       "      <td>YES</td>\n",
       "      <td>YES</td>\n",
       "      <td>YES</td>\n",
       "      <td>NO</td>\n",
       "      <td>YES</td>\n",
       "      <td>NO</td>\n",
       "      <td>0</td>\n",
       "      <td>4</td>\n",
       "      <td>NO</td>\n",
       "      <td>NO</td>\n",
       "    </tr>\n",
       "    <tr>\n",
       "      <th>1</th>\n",
       "      <td>119</td>\n",
       "      <td>EXISTING CREDITS PAID BACK</td>\n",
       "      <td>ELECTRONICS</td>\n",
       "      <td>31314</td>\n",
       "      <td>above 1000 K USD</td>\n",
       "      <td>4 to 7 YRS</td>\n",
       "      <td>CT</td>\n",
       "      <td>YES</td>\n",
       "      <td>YES</td>\n",
       "      <td>YES</td>\n",
       "      <td>YES</td>\n",
       "      <td>NO</td>\n",
       "      <td>NO</td>\n",
       "      <td>YES</td>\n",
       "      <td>0</td>\n",
       "      <td>3</td>\n",
       "      <td>YES</td>\n",
       "      <td>YES</td>\n",
       "    </tr>\n",
       "    <tr>\n",
       "      <th>2</th>\n",
       "      <td>84</td>\n",
       "      <td>EXISTING CREDITS PAID BACK</td>\n",
       "      <td>FURNITURE</td>\n",
       "      <td>27630</td>\n",
       "      <td>above 1000 K USD</td>\n",
       "      <td>4 to 7 YRS</td>\n",
       "      <td>PA</td>\n",
       "      <td>NO</td>\n",
       "      <td>NO</td>\n",
       "      <td>YES</td>\n",
       "      <td>YES</td>\n",
       "      <td>YES</td>\n",
       "      <td>NO</td>\n",
       "      <td>YES</td>\n",
       "      <td>0</td>\n",
       "      <td>3</td>\n",
       "      <td>YES</td>\n",
       "      <td>YES</td>\n",
       "    </tr>\n",
       "    <tr>\n",
       "      <th>3</th>\n",
       "      <td>119</td>\n",
       "      <td>DELAY IN PAST</td>\n",
       "      <td>FURNITURE</td>\n",
       "      <td>33156</td>\n",
       "      <td>above 1000 K USD</td>\n",
       "      <td>up to 1 YR</td>\n",
       "      <td>PA</td>\n",
       "      <td>YES</td>\n",
       "      <td>NO</td>\n",
       "      <td>YES</td>\n",
       "      <td>NO</td>\n",
       "      <td>NO</td>\n",
       "      <td>NO</td>\n",
       "      <td>YES</td>\n",
       "      <td>0</td>\n",
       "      <td>3</td>\n",
       "      <td>NO</td>\n",
       "      <td>NO</td>\n",
       "    </tr>\n",
       "    <tr>\n",
       "      <th>4</th>\n",
       "      <td>105</td>\n",
       "      <td>DELAY IN PAST</td>\n",
       "      <td>FURNITURE</td>\n",
       "      <td>23946</td>\n",
       "      <td>above 1000 K USD</td>\n",
       "      <td>up to 1 YR</td>\n",
       "      <td>CT</td>\n",
       "      <td>NO</td>\n",
       "      <td>YES</td>\n",
       "      <td>YES</td>\n",
       "      <td>YES</td>\n",
       "      <td>YES</td>\n",
       "      <td>YES</td>\n",
       "      <td>NO</td>\n",
       "      <td>0</td>\n",
       "      <td>3</td>\n",
       "      <td>YES</td>\n",
       "      <td>YES</td>\n",
       "    </tr>\n",
       "  </tbody>\n",
       "</table>\n",
       "</div>"
      ],
      "text/plain": [
       "   EMI_TENURE              CREDIT_HISTORY TRANSACTION_CATEGORY  \\\n",
       "0          77  EXISTING CREDITS PAID BACK            EDUCATION   \n",
       "1         119  EXISTING CREDITS PAID BACK          ELECTRONICS   \n",
       "2          84  EXISTING CREDITS PAID BACK            FURNITURE   \n",
       "3         119               DELAY IN PAST            FURNITURE   \n",
       "4         105               DELAY IN PAST            FURNITURE   \n",
       "\n",
       "   TRANSACTION_AMOUNT      ACCOUNT_TYPE  ACCOUNT_AGE STATE IS_URBAN  \\\n",
       "0               27630      UNKNOWN/NONE  above 7 YRS    CT       NO   \n",
       "1               31314  above 1000 K USD   4 to 7 YRS    CT      YES   \n",
       "2               27630  above 1000 K USD   4 to 7 YRS    PA       NO   \n",
       "3               33156  above 1000 K USD   up to 1 YR    PA      YES   \n",
       "4               23946  above 1000 K USD   up to 1 YR    CT       NO   \n",
       "\n",
       "  IS_STATE_BORDER HAS_CO_APPLICANT HAS_GUARANTOR OWN_REAL_ESTATE  \\\n",
       "0             YES              YES           YES              NO   \n",
       "1             YES              YES           YES              NO   \n",
       "2              NO              YES           YES             YES   \n",
       "3              NO              YES            NO              NO   \n",
       "4             YES              YES           YES             YES   \n",
       "\n",
       "  OTHER_INSTALMENT_PLAN OWN_RESIDENCE  NUMBER_CREDITS  RFM_SCORE OWN_CAR  \\\n",
       "0                   YES            NO               0          4      NO   \n",
       "1                    NO           YES               0          3     YES   \n",
       "2                    NO           YES               0          3     YES   \n",
       "3                    NO           YES               0          3      NO   \n",
       "4                   YES            NO               0          3     YES   \n",
       "\n",
       "  SHIP_INTERNATIONAL  \n",
       "0                 NO  \n",
       "1                YES  \n",
       "2                YES  \n",
       "3                 NO  \n",
       "4                YES  "
      ]
     },
     "execution_count": 27,
     "metadata": {},
     "output_type": "execute_result"
    }
   ],
   "source": [
    "print('features df shape = ', cust_pd_X.shape)\n",
    "cust_pd_X.head()"
   ]
  },
  {
   "cell_type": "markdown",
   "metadata": {},
   "source": [
    "### One hot encoding for categorical Columns"
   ]
  },
  {
   "cell_type": "code",
   "execution_count": 28,
   "metadata": {},
   "outputs": [
    {
     "data": {
      "text/html": [
       "<div>\n",
       "<style scoped>\n",
       "    .dataframe tbody tr th:only-of-type {\n",
       "        vertical-align: middle;\n",
       "    }\n",
       "\n",
       "    .dataframe tbody tr th {\n",
       "        vertical-align: top;\n",
       "    }\n",
       "\n",
       "    .dataframe thead th {\n",
       "        text-align: right;\n",
       "    }\n",
       "</style>\n",
       "<table border=\"1\" class=\"dataframe\">\n",
       "  <thead>\n",
       "    <tr style=\"text-align: right;\">\n",
       "      <th></th>\n",
       "      <th>EMI_TENURE</th>\n",
       "      <th>TRANSACTION_AMOUNT</th>\n",
       "      <th>NUMBER_CREDITS</th>\n",
       "      <th>CREDIT_HISTORY_ALL CREDITS PAID BACK</th>\n",
       "      <th>CREDIT_HISTORY_CRITICAL ACCOUNT</th>\n",
       "      <th>CREDIT_HISTORY_DELAY IN PAST</th>\n",
       "      <th>CREDIT_HISTORY_EXISTING CREDITS PAID BACK</th>\n",
       "      <th>CREDIT_HISTORY_NONE TAKEN</th>\n",
       "      <th>TRANSACTION_CATEGORY_EDUCATION</th>\n",
       "      <th>TRANSACTION_CATEGORY_ELECTRONICS</th>\n",
       "      <th>TRANSACTION_CATEGORY_FURNITURE</th>\n",
       "      <th>TRANSACTION_CATEGORY_NEW CAR</th>\n",
       "      <th>TRANSACTION_CATEGORY_OTHER</th>\n",
       "      <th>TRANSACTION_CATEGORY_RETRAINING</th>\n",
       "      <th>TRANSACTION_CATEGORY_USED CAR</th>\n",
       "      <th>ACCOUNT_TYPE_100 to 500 K USD</th>\n",
       "      <th>ACCOUNT_TYPE_500 to 1000 K USD</th>\n",
       "      <th>ACCOUNT_TYPE_UNKNOWN/NONE</th>\n",
       "      <th>ACCOUNT_TYPE_above 1000 K USD</th>\n",
       "      <th>ACCOUNT_TYPE_up to 100 K USD</th>\n",
       "      <th>ACCOUNT_AGE_1 to 4 YRS</th>\n",
       "      <th>ACCOUNT_AGE_4 to 7 YRS</th>\n",
       "      <th>ACCOUNT_AGE_TBD</th>\n",
       "      <th>ACCOUNT_AGE_above 7 YRS</th>\n",
       "      <th>ACCOUNT_AGE_up to 1 YR</th>\n",
       "      <th>STATE_CT</th>\n",
       "      <th>STATE_NJ</th>\n",
       "      <th>STATE_NY</th>\n",
       "      <th>STATE_PA</th>\n",
       "      <th>IS_URBAN_NO</th>\n",
       "      <th>IS_URBAN_YES</th>\n",
       "      <th>IS_STATE_BORDER_NO</th>\n",
       "      <th>IS_STATE_BORDER_YES</th>\n",
       "      <th>HAS_CO_APPLICANT_NO</th>\n",
       "      <th>HAS_CO_APPLICANT_YES</th>\n",
       "      <th>HAS_GUARANTOR_NO</th>\n",
       "      <th>HAS_GUARANTOR_YES</th>\n",
       "      <th>OWN_REAL_ESTATE_NO</th>\n",
       "      <th>OWN_REAL_ESTATE_YES</th>\n",
       "      <th>OTHER_INSTALMENT_PLAN_NO</th>\n",
       "      <th>OTHER_INSTALMENT_PLAN_YES</th>\n",
       "      <th>OWN_RESIDENCE_NO</th>\n",
       "      <th>OWN_RESIDENCE_YES</th>\n",
       "      <th>RFM_SCORE_1</th>\n",
       "      <th>RFM_SCORE_2</th>\n",
       "      <th>RFM_SCORE_3</th>\n",
       "      <th>RFM_SCORE_4</th>\n",
       "      <th>OWN_CAR_NO</th>\n",
       "      <th>OWN_CAR_YES</th>\n",
       "      <th>SHIP_INTERNATIONAL_NO</th>\n",
       "      <th>SHIP_INTERNATIONAL_YES</th>\n",
       "    </tr>\n",
       "  </thead>\n",
       "  <tbody>\n",
       "    <tr>\n",
       "      <th>0</th>\n",
       "      <td>77</td>\n",
       "      <td>27630</td>\n",
       "      <td>0</td>\n",
       "      <td>0</td>\n",
       "      <td>0</td>\n",
       "      <td>0</td>\n",
       "      <td>1</td>\n",
       "      <td>0</td>\n",
       "      <td>1</td>\n",
       "      <td>0</td>\n",
       "      <td>0</td>\n",
       "      <td>0</td>\n",
       "      <td>0</td>\n",
       "      <td>0</td>\n",
       "      <td>0</td>\n",
       "      <td>0</td>\n",
       "      <td>0</td>\n",
       "      <td>1</td>\n",
       "      <td>0</td>\n",
       "      <td>0</td>\n",
       "      <td>0</td>\n",
       "      <td>0</td>\n",
       "      <td>0</td>\n",
       "      <td>1</td>\n",
       "      <td>0</td>\n",
       "      <td>1</td>\n",
       "      <td>0</td>\n",
       "      <td>0</td>\n",
       "      <td>0</td>\n",
       "      <td>1</td>\n",
       "      <td>0</td>\n",
       "      <td>0</td>\n",
       "      <td>1</td>\n",
       "      <td>0</td>\n",
       "      <td>1</td>\n",
       "      <td>0</td>\n",
       "      <td>1</td>\n",
       "      <td>1</td>\n",
       "      <td>0</td>\n",
       "      <td>0</td>\n",
       "      <td>1</td>\n",
       "      <td>1</td>\n",
       "      <td>0</td>\n",
       "      <td>0</td>\n",
       "      <td>0</td>\n",
       "      <td>0</td>\n",
       "      <td>1</td>\n",
       "      <td>1</td>\n",
       "      <td>0</td>\n",
       "      <td>1</td>\n",
       "      <td>0</td>\n",
       "    </tr>\n",
       "    <tr>\n",
       "      <th>1</th>\n",
       "      <td>119</td>\n",
       "      <td>31314</td>\n",
       "      <td>0</td>\n",
       "      <td>0</td>\n",
       "      <td>0</td>\n",
       "      <td>0</td>\n",
       "      <td>1</td>\n",
       "      <td>0</td>\n",
       "      <td>0</td>\n",
       "      <td>1</td>\n",
       "      <td>0</td>\n",
       "      <td>0</td>\n",
       "      <td>0</td>\n",
       "      <td>0</td>\n",
       "      <td>0</td>\n",
       "      <td>0</td>\n",
       "      <td>0</td>\n",
       "      <td>0</td>\n",
       "      <td>1</td>\n",
       "      <td>0</td>\n",
       "      <td>0</td>\n",
       "      <td>1</td>\n",
       "      <td>0</td>\n",
       "      <td>0</td>\n",
       "      <td>0</td>\n",
       "      <td>1</td>\n",
       "      <td>0</td>\n",
       "      <td>0</td>\n",
       "      <td>0</td>\n",
       "      <td>0</td>\n",
       "      <td>1</td>\n",
       "      <td>0</td>\n",
       "      <td>1</td>\n",
       "      <td>0</td>\n",
       "      <td>1</td>\n",
       "      <td>0</td>\n",
       "      <td>1</td>\n",
       "      <td>1</td>\n",
       "      <td>0</td>\n",
       "      <td>1</td>\n",
       "      <td>0</td>\n",
       "      <td>0</td>\n",
       "      <td>1</td>\n",
       "      <td>0</td>\n",
       "      <td>0</td>\n",
       "      <td>1</td>\n",
       "      <td>0</td>\n",
       "      <td>0</td>\n",
       "      <td>1</td>\n",
       "      <td>0</td>\n",
       "      <td>1</td>\n",
       "    </tr>\n",
       "    <tr>\n",
       "      <th>2</th>\n",
       "      <td>84</td>\n",
       "      <td>27630</td>\n",
       "      <td>0</td>\n",
       "      <td>0</td>\n",
       "      <td>0</td>\n",
       "      <td>0</td>\n",
       "      <td>1</td>\n",
       "      <td>0</td>\n",
       "      <td>0</td>\n",
       "      <td>0</td>\n",
       "      <td>1</td>\n",
       "      <td>0</td>\n",
       "      <td>0</td>\n",
       "      <td>0</td>\n",
       "      <td>0</td>\n",
       "      <td>0</td>\n",
       "      <td>0</td>\n",
       "      <td>0</td>\n",
       "      <td>1</td>\n",
       "      <td>0</td>\n",
       "      <td>0</td>\n",
       "      <td>1</td>\n",
       "      <td>0</td>\n",
       "      <td>0</td>\n",
       "      <td>0</td>\n",
       "      <td>0</td>\n",
       "      <td>0</td>\n",
       "      <td>0</td>\n",
       "      <td>1</td>\n",
       "      <td>1</td>\n",
       "      <td>0</td>\n",
       "      <td>1</td>\n",
       "      <td>0</td>\n",
       "      <td>0</td>\n",
       "      <td>1</td>\n",
       "      <td>0</td>\n",
       "      <td>1</td>\n",
       "      <td>0</td>\n",
       "      <td>1</td>\n",
       "      <td>1</td>\n",
       "      <td>0</td>\n",
       "      <td>0</td>\n",
       "      <td>1</td>\n",
       "      <td>0</td>\n",
       "      <td>0</td>\n",
       "      <td>1</td>\n",
       "      <td>0</td>\n",
       "      <td>0</td>\n",
       "      <td>1</td>\n",
       "      <td>0</td>\n",
       "      <td>1</td>\n",
       "    </tr>\n",
       "    <tr>\n",
       "      <th>3</th>\n",
       "      <td>119</td>\n",
       "      <td>33156</td>\n",
       "      <td>0</td>\n",
       "      <td>0</td>\n",
       "      <td>0</td>\n",
       "      <td>1</td>\n",
       "      <td>0</td>\n",
       "      <td>0</td>\n",
       "      <td>0</td>\n",
       "      <td>0</td>\n",
       "      <td>1</td>\n",
       "      <td>0</td>\n",
       "      <td>0</td>\n",
       "      <td>0</td>\n",
       "      <td>0</td>\n",
       "      <td>0</td>\n",
       "      <td>0</td>\n",
       "      <td>0</td>\n",
       "      <td>1</td>\n",
       "      <td>0</td>\n",
       "      <td>0</td>\n",
       "      <td>0</td>\n",
       "      <td>0</td>\n",
       "      <td>0</td>\n",
       "      <td>1</td>\n",
       "      <td>0</td>\n",
       "      <td>0</td>\n",
       "      <td>0</td>\n",
       "      <td>1</td>\n",
       "      <td>0</td>\n",
       "      <td>1</td>\n",
       "      <td>1</td>\n",
       "      <td>0</td>\n",
       "      <td>0</td>\n",
       "      <td>1</td>\n",
       "      <td>1</td>\n",
       "      <td>0</td>\n",
       "      <td>1</td>\n",
       "      <td>0</td>\n",
       "      <td>1</td>\n",
       "      <td>0</td>\n",
       "      <td>0</td>\n",
       "      <td>1</td>\n",
       "      <td>0</td>\n",
       "      <td>0</td>\n",
       "      <td>1</td>\n",
       "      <td>0</td>\n",
       "      <td>1</td>\n",
       "      <td>0</td>\n",
       "      <td>1</td>\n",
       "      <td>0</td>\n",
       "    </tr>\n",
       "    <tr>\n",
       "      <th>4</th>\n",
       "      <td>105</td>\n",
       "      <td>23946</td>\n",
       "      <td>0</td>\n",
       "      <td>0</td>\n",
       "      <td>0</td>\n",
       "      <td>1</td>\n",
       "      <td>0</td>\n",
       "      <td>0</td>\n",
       "      <td>0</td>\n",
       "      <td>0</td>\n",
       "      <td>1</td>\n",
       "      <td>0</td>\n",
       "      <td>0</td>\n",
       "      <td>0</td>\n",
       "      <td>0</td>\n",
       "      <td>0</td>\n",
       "      <td>0</td>\n",
       "      <td>0</td>\n",
       "      <td>1</td>\n",
       "      <td>0</td>\n",
       "      <td>0</td>\n",
       "      <td>0</td>\n",
       "      <td>0</td>\n",
       "      <td>0</td>\n",
       "      <td>1</td>\n",
       "      <td>1</td>\n",
       "      <td>0</td>\n",
       "      <td>0</td>\n",
       "      <td>0</td>\n",
       "      <td>1</td>\n",
       "      <td>0</td>\n",
       "      <td>0</td>\n",
       "      <td>1</td>\n",
       "      <td>0</td>\n",
       "      <td>1</td>\n",
       "      <td>0</td>\n",
       "      <td>1</td>\n",
       "      <td>0</td>\n",
       "      <td>1</td>\n",
       "      <td>0</td>\n",
       "      <td>1</td>\n",
       "      <td>1</td>\n",
       "      <td>0</td>\n",
       "      <td>0</td>\n",
       "      <td>0</td>\n",
       "      <td>1</td>\n",
       "      <td>0</td>\n",
       "      <td>0</td>\n",
       "      <td>1</td>\n",
       "      <td>0</td>\n",
       "      <td>1</td>\n",
       "    </tr>\n",
       "  </tbody>\n",
       "</table>\n",
       "</div>"
      ],
      "text/plain": [
       "   EMI_TENURE  TRANSACTION_AMOUNT  NUMBER_CREDITS  \\\n",
       "0          77               27630               0   \n",
       "1         119               31314               0   \n",
       "2          84               27630               0   \n",
       "3         119               33156               0   \n",
       "4         105               23946               0   \n",
       "\n",
       "   CREDIT_HISTORY_ALL CREDITS PAID BACK  CREDIT_HISTORY_CRITICAL ACCOUNT  \\\n",
       "0                                     0                                0   \n",
       "1                                     0                                0   \n",
       "2                                     0                                0   \n",
       "3                                     0                                0   \n",
       "4                                     0                                0   \n",
       "\n",
       "   CREDIT_HISTORY_DELAY IN PAST  CREDIT_HISTORY_EXISTING CREDITS PAID BACK  \\\n",
       "0                             0                                          1   \n",
       "1                             0                                          1   \n",
       "2                             0                                          1   \n",
       "3                             1                                          0   \n",
       "4                             1                                          0   \n",
       "\n",
       "   CREDIT_HISTORY_NONE TAKEN  TRANSACTION_CATEGORY_EDUCATION  \\\n",
       "0                          0                               1   \n",
       "1                          0                               0   \n",
       "2                          0                               0   \n",
       "3                          0                               0   \n",
       "4                          0                               0   \n",
       "\n",
       "   TRANSACTION_CATEGORY_ELECTRONICS  TRANSACTION_CATEGORY_FURNITURE  \\\n",
       "0                                 0                               0   \n",
       "1                                 1                               0   \n",
       "2                                 0                               1   \n",
       "3                                 0                               1   \n",
       "4                                 0                               1   \n",
       "\n",
       "   TRANSACTION_CATEGORY_NEW CAR  TRANSACTION_CATEGORY_OTHER  \\\n",
       "0                             0                           0   \n",
       "1                             0                           0   \n",
       "2                             0                           0   \n",
       "3                             0                           0   \n",
       "4                             0                           0   \n",
       "\n",
       "   TRANSACTION_CATEGORY_RETRAINING  TRANSACTION_CATEGORY_USED CAR  \\\n",
       "0                                0                              0   \n",
       "1                                0                              0   \n",
       "2                                0                              0   \n",
       "3                                0                              0   \n",
       "4                                0                              0   \n",
       "\n",
       "   ACCOUNT_TYPE_100 to 500 K USD  ACCOUNT_TYPE_500 to 1000 K USD  \\\n",
       "0                              0                               0   \n",
       "1                              0                               0   \n",
       "2                              0                               0   \n",
       "3                              0                               0   \n",
       "4                              0                               0   \n",
       "\n",
       "   ACCOUNT_TYPE_UNKNOWN/NONE  ACCOUNT_TYPE_above 1000 K USD  \\\n",
       "0                          1                              0   \n",
       "1                          0                              1   \n",
       "2                          0                              1   \n",
       "3                          0                              1   \n",
       "4                          0                              1   \n",
       "\n",
       "   ACCOUNT_TYPE_up to 100 K USD  ACCOUNT_AGE_1 to 4 YRS  \\\n",
       "0                             0                       0   \n",
       "1                             0                       0   \n",
       "2                             0                       0   \n",
       "3                             0                       0   \n",
       "4                             0                       0   \n",
       "\n",
       "   ACCOUNT_AGE_4 to 7 YRS  ACCOUNT_AGE_TBD  ACCOUNT_AGE_above 7 YRS  \\\n",
       "0                       0                0                        1   \n",
       "1                       1                0                        0   \n",
       "2                       1                0                        0   \n",
       "3                       0                0                        0   \n",
       "4                       0                0                        0   \n",
       "\n",
       "   ACCOUNT_AGE_up to 1 YR  STATE_CT  STATE_NJ  STATE_NY  STATE_PA  \\\n",
       "0                       0         1         0         0         0   \n",
       "1                       0         1         0         0         0   \n",
       "2                       0         0         0         0         1   \n",
       "3                       1         0         0         0         1   \n",
       "4                       1         1         0         0         0   \n",
       "\n",
       "   IS_URBAN_NO  IS_URBAN_YES  IS_STATE_BORDER_NO  IS_STATE_BORDER_YES  \\\n",
       "0            1             0                   0                    1   \n",
       "1            0             1                   0                    1   \n",
       "2            1             0                   1                    0   \n",
       "3            0             1                   1                    0   \n",
       "4            1             0                   0                    1   \n",
       "\n",
       "   HAS_CO_APPLICANT_NO  HAS_CO_APPLICANT_YES  HAS_GUARANTOR_NO  \\\n",
       "0                    0                     1                 0   \n",
       "1                    0                     1                 0   \n",
       "2                    0                     1                 0   \n",
       "3                    0                     1                 1   \n",
       "4                    0                     1                 0   \n",
       "\n",
       "   HAS_GUARANTOR_YES  OWN_REAL_ESTATE_NO  OWN_REAL_ESTATE_YES  \\\n",
       "0                  1                   1                    0   \n",
       "1                  1                   1                    0   \n",
       "2                  1                   0                    1   \n",
       "3                  0                   1                    0   \n",
       "4                  1                   0                    1   \n",
       "\n",
       "   OTHER_INSTALMENT_PLAN_NO  OTHER_INSTALMENT_PLAN_YES  OWN_RESIDENCE_NO  \\\n",
       "0                         0                          1                 1   \n",
       "1                         1                          0                 0   \n",
       "2                         1                          0                 0   \n",
       "3                         1                          0                 0   \n",
       "4                         0                          1                 1   \n",
       "\n",
       "   OWN_RESIDENCE_YES  RFM_SCORE_1  RFM_SCORE_2  RFM_SCORE_3  RFM_SCORE_4  \\\n",
       "0                  0            0            0            0            1   \n",
       "1                  1            0            0            1            0   \n",
       "2                  1            0            0            1            0   \n",
       "3                  1            0            0            1            0   \n",
       "4                  0            0            0            1            0   \n",
       "\n",
       "   OWN_CAR_NO  OWN_CAR_YES  SHIP_INTERNATIONAL_NO  SHIP_INTERNATIONAL_YES  \n",
       "0           1            0                      1                       0  \n",
       "1           0            1                      0                       1  \n",
       "2           0            1                      0                       1  \n",
       "3           1            0                      1                       0  \n",
       "4           0            1                      0                       1  "
      ]
     },
     "execution_count": 28,
     "metadata": {},
     "output_type": "execute_result"
    }
   ],
   "source": [
    "categoricalColumns = ['CREDIT_HISTORY', 'TRANSACTION_CATEGORY', 'ACCOUNT_TYPE', 'ACCOUNT_AGE',\n",
    "                      'STATE', 'IS_URBAN', 'IS_STATE_BORDER', 'HAS_CO_APPLICANT', 'HAS_GUARANTOR',\n",
    "                      'OWN_REAL_ESTATE', 'OTHER_INSTALMENT_PLAN',\n",
    "                      'OWN_RESIDENCE', 'RFM_SCORE', 'OWN_CAR', 'SHIP_INTERNATIONAL']\n",
    "cust_pd_X = pd.get_dummies(cust_pd_X, columns=categoricalColumns)\n",
    "\n",
    "cust_pd_X.head()"
   ]
  },
  {
   "cell_type": "markdown",
   "metadata": {},
   "source": [
    "## Normalize Features"
   ]
  },
  {
   "cell_type": "code",
   "execution_count": 29,
   "metadata": {},
   "outputs": [
    {
     "data": {
      "text/html": [
       "<div>\n",
       "<style scoped>\n",
       "    .dataframe tbody tr th:only-of-type {\n",
       "        vertical-align: middle;\n",
       "    }\n",
       "\n",
       "    .dataframe tbody tr th {\n",
       "        vertical-align: top;\n",
       "    }\n",
       "\n",
       "    .dataframe thead th {\n",
       "        text-align: right;\n",
       "    }\n",
       "</style>\n",
       "<table border=\"1\" class=\"dataframe\">\n",
       "  <thead>\n",
       "    <tr style=\"text-align: right;\">\n",
       "      <th></th>\n",
       "      <th>EMI_TENURE</th>\n",
       "      <th>TRANSACTION_AMOUNT</th>\n",
       "      <th>NUMBER_CREDITS</th>\n",
       "      <th>CREDIT_HISTORY_ALL CREDITS PAID BACK</th>\n",
       "      <th>CREDIT_HISTORY_CRITICAL ACCOUNT</th>\n",
       "      <th>CREDIT_HISTORY_DELAY IN PAST</th>\n",
       "      <th>CREDIT_HISTORY_EXISTING CREDITS PAID BACK</th>\n",
       "      <th>CREDIT_HISTORY_NONE TAKEN</th>\n",
       "      <th>TRANSACTION_CATEGORY_EDUCATION</th>\n",
       "      <th>TRANSACTION_CATEGORY_ELECTRONICS</th>\n",
       "      <th>TRANSACTION_CATEGORY_FURNITURE</th>\n",
       "      <th>TRANSACTION_CATEGORY_NEW CAR</th>\n",
       "      <th>TRANSACTION_CATEGORY_OTHER</th>\n",
       "      <th>TRANSACTION_CATEGORY_RETRAINING</th>\n",
       "      <th>TRANSACTION_CATEGORY_USED CAR</th>\n",
       "      <th>ACCOUNT_TYPE_100 to 500 K USD</th>\n",
       "      <th>ACCOUNT_TYPE_500 to 1000 K USD</th>\n",
       "      <th>ACCOUNT_TYPE_UNKNOWN/NONE</th>\n",
       "      <th>ACCOUNT_TYPE_above 1000 K USD</th>\n",
       "      <th>ACCOUNT_TYPE_up to 100 K USD</th>\n",
       "      <th>ACCOUNT_AGE_1 to 4 YRS</th>\n",
       "      <th>ACCOUNT_AGE_4 to 7 YRS</th>\n",
       "      <th>ACCOUNT_AGE_TBD</th>\n",
       "      <th>ACCOUNT_AGE_above 7 YRS</th>\n",
       "      <th>ACCOUNT_AGE_up to 1 YR</th>\n",
       "      <th>STATE_CT</th>\n",
       "      <th>STATE_NJ</th>\n",
       "      <th>STATE_NY</th>\n",
       "      <th>STATE_PA</th>\n",
       "      <th>IS_URBAN_NO</th>\n",
       "      <th>IS_URBAN_YES</th>\n",
       "      <th>IS_STATE_BORDER_NO</th>\n",
       "      <th>IS_STATE_BORDER_YES</th>\n",
       "      <th>HAS_CO_APPLICANT_NO</th>\n",
       "      <th>HAS_CO_APPLICANT_YES</th>\n",
       "      <th>HAS_GUARANTOR_NO</th>\n",
       "      <th>HAS_GUARANTOR_YES</th>\n",
       "      <th>OWN_REAL_ESTATE_NO</th>\n",
       "      <th>OWN_REAL_ESTATE_YES</th>\n",
       "      <th>OTHER_INSTALMENT_PLAN_NO</th>\n",
       "      <th>OTHER_INSTALMENT_PLAN_YES</th>\n",
       "      <th>OWN_RESIDENCE_NO</th>\n",
       "      <th>OWN_RESIDENCE_YES</th>\n",
       "      <th>RFM_SCORE_1</th>\n",
       "      <th>RFM_SCORE_2</th>\n",
       "      <th>RFM_SCORE_3</th>\n",
       "      <th>RFM_SCORE_4</th>\n",
       "      <th>OWN_CAR_NO</th>\n",
       "      <th>OWN_CAR_YES</th>\n",
       "      <th>SHIP_INTERNATIONAL_NO</th>\n",
       "      <th>SHIP_INTERNATIONAL_YES</th>\n",
       "    </tr>\n",
       "  </thead>\n",
       "  <tbody>\n",
       "    <tr>\n",
       "      <th>0</th>\n",
       "      <td>0.027542</td>\n",
       "      <td>0.033533</td>\n",
       "      <td>0.0</td>\n",
       "      <td>0.0</td>\n",
       "      <td>0.0</td>\n",
       "      <td>0.000000</td>\n",
       "      <td>0.062595</td>\n",
       "      <td>0.0</td>\n",
       "      <td>0.062595</td>\n",
       "      <td>0.000000</td>\n",
       "      <td>0.000000</td>\n",
       "      <td>0.0</td>\n",
       "      <td>0.0</td>\n",
       "      <td>0.0</td>\n",
       "      <td>0.0</td>\n",
       "      <td>0.0</td>\n",
       "      <td>0.0</td>\n",
       "      <td>0.062595</td>\n",
       "      <td>0.000000</td>\n",
       "      <td>0.0</td>\n",
       "      <td>0.0</td>\n",
       "      <td>0.000000</td>\n",
       "      <td>0.0</td>\n",
       "      <td>0.062595</td>\n",
       "      <td>0.000000</td>\n",
       "      <td>0.062595</td>\n",
       "      <td>0.0</td>\n",
       "      <td>0.0</td>\n",
       "      <td>0.000000</td>\n",
       "      <td>0.062595</td>\n",
       "      <td>0.000000</td>\n",
       "      <td>0.000000</td>\n",
       "      <td>0.062595</td>\n",
       "      <td>0.0</td>\n",
       "      <td>0.062595</td>\n",
       "      <td>0.000000</td>\n",
       "      <td>0.062595</td>\n",
       "      <td>0.062595</td>\n",
       "      <td>0.000000</td>\n",
       "      <td>0.000000</td>\n",
       "      <td>0.062595</td>\n",
       "      <td>0.062595</td>\n",
       "      <td>0.000000</td>\n",
       "      <td>0.0</td>\n",
       "      <td>0.0</td>\n",
       "      <td>0.000000</td>\n",
       "      <td>0.062595</td>\n",
       "      <td>0.062595</td>\n",
       "      <td>0.000000</td>\n",
       "      <td>0.062595</td>\n",
       "      <td>0.000000</td>\n",
       "    </tr>\n",
       "    <tr>\n",
       "      <th>1</th>\n",
       "      <td>0.041751</td>\n",
       "      <td>0.037277</td>\n",
       "      <td>0.0</td>\n",
       "      <td>0.0</td>\n",
       "      <td>0.0</td>\n",
       "      <td>0.000000</td>\n",
       "      <td>0.061398</td>\n",
       "      <td>0.0</td>\n",
       "      <td>0.000000</td>\n",
       "      <td>0.061398</td>\n",
       "      <td>0.000000</td>\n",
       "      <td>0.0</td>\n",
       "      <td>0.0</td>\n",
       "      <td>0.0</td>\n",
       "      <td>0.0</td>\n",
       "      <td>0.0</td>\n",
       "      <td>0.0</td>\n",
       "      <td>0.000000</td>\n",
       "      <td>0.061398</td>\n",
       "      <td>0.0</td>\n",
       "      <td>0.0</td>\n",
       "      <td>0.061398</td>\n",
       "      <td>0.0</td>\n",
       "      <td>0.000000</td>\n",
       "      <td>0.000000</td>\n",
       "      <td>0.061398</td>\n",
       "      <td>0.0</td>\n",
       "      <td>0.0</td>\n",
       "      <td>0.000000</td>\n",
       "      <td>0.000000</td>\n",
       "      <td>0.061398</td>\n",
       "      <td>0.000000</td>\n",
       "      <td>0.061398</td>\n",
       "      <td>0.0</td>\n",
       "      <td>0.061398</td>\n",
       "      <td>0.000000</td>\n",
       "      <td>0.061398</td>\n",
       "      <td>0.061398</td>\n",
       "      <td>0.000000</td>\n",
       "      <td>0.061398</td>\n",
       "      <td>0.000000</td>\n",
       "      <td>0.000000</td>\n",
       "      <td>0.061398</td>\n",
       "      <td>0.0</td>\n",
       "      <td>0.0</td>\n",
       "      <td>0.061398</td>\n",
       "      <td>0.000000</td>\n",
       "      <td>0.000000</td>\n",
       "      <td>0.061398</td>\n",
       "      <td>0.000000</td>\n",
       "      <td>0.061398</td>\n",
       "    </tr>\n",
       "    <tr>\n",
       "      <th>2</th>\n",
       "      <td>0.029971</td>\n",
       "      <td>0.033449</td>\n",
       "      <td>0.0</td>\n",
       "      <td>0.0</td>\n",
       "      <td>0.0</td>\n",
       "      <td>0.000000</td>\n",
       "      <td>0.062439</td>\n",
       "      <td>0.0</td>\n",
       "      <td>0.000000</td>\n",
       "      <td>0.000000</td>\n",
       "      <td>0.062439</td>\n",
       "      <td>0.0</td>\n",
       "      <td>0.0</td>\n",
       "      <td>0.0</td>\n",
       "      <td>0.0</td>\n",
       "      <td>0.0</td>\n",
       "      <td>0.0</td>\n",
       "      <td>0.000000</td>\n",
       "      <td>0.062439</td>\n",
       "      <td>0.0</td>\n",
       "      <td>0.0</td>\n",
       "      <td>0.062439</td>\n",
       "      <td>0.0</td>\n",
       "      <td>0.000000</td>\n",
       "      <td>0.000000</td>\n",
       "      <td>0.000000</td>\n",
       "      <td>0.0</td>\n",
       "      <td>0.0</td>\n",
       "      <td>0.062439</td>\n",
       "      <td>0.062439</td>\n",
       "      <td>0.000000</td>\n",
       "      <td>0.062439</td>\n",
       "      <td>0.000000</td>\n",
       "      <td>0.0</td>\n",
       "      <td>0.062439</td>\n",
       "      <td>0.000000</td>\n",
       "      <td>0.062439</td>\n",
       "      <td>0.000000</td>\n",
       "      <td>0.062439</td>\n",
       "      <td>0.062439</td>\n",
       "      <td>0.000000</td>\n",
       "      <td>0.000000</td>\n",
       "      <td>0.062439</td>\n",
       "      <td>0.0</td>\n",
       "      <td>0.0</td>\n",
       "      <td>0.062439</td>\n",
       "      <td>0.000000</td>\n",
       "      <td>0.000000</td>\n",
       "      <td>0.062439</td>\n",
       "      <td>0.000000</td>\n",
       "      <td>0.062439</td>\n",
       "    </tr>\n",
       "    <tr>\n",
       "      <th>3</th>\n",
       "      <td>0.041659</td>\n",
       "      <td>0.039384</td>\n",
       "      <td>0.0</td>\n",
       "      <td>0.0</td>\n",
       "      <td>0.0</td>\n",
       "      <td>0.061264</td>\n",
       "      <td>0.000000</td>\n",
       "      <td>0.0</td>\n",
       "      <td>0.000000</td>\n",
       "      <td>0.000000</td>\n",
       "      <td>0.061264</td>\n",
       "      <td>0.0</td>\n",
       "      <td>0.0</td>\n",
       "      <td>0.0</td>\n",
       "      <td>0.0</td>\n",
       "      <td>0.0</td>\n",
       "      <td>0.0</td>\n",
       "      <td>0.000000</td>\n",
       "      <td>0.061264</td>\n",
       "      <td>0.0</td>\n",
       "      <td>0.0</td>\n",
       "      <td>0.000000</td>\n",
       "      <td>0.0</td>\n",
       "      <td>0.000000</td>\n",
       "      <td>0.061264</td>\n",
       "      <td>0.000000</td>\n",
       "      <td>0.0</td>\n",
       "      <td>0.0</td>\n",
       "      <td>0.061264</td>\n",
       "      <td>0.000000</td>\n",
       "      <td>0.061264</td>\n",
       "      <td>0.061264</td>\n",
       "      <td>0.000000</td>\n",
       "      <td>0.0</td>\n",
       "      <td>0.061264</td>\n",
       "      <td>0.061264</td>\n",
       "      <td>0.000000</td>\n",
       "      <td>0.061264</td>\n",
       "      <td>0.000000</td>\n",
       "      <td>0.061264</td>\n",
       "      <td>0.000000</td>\n",
       "      <td>0.000000</td>\n",
       "      <td>0.061264</td>\n",
       "      <td>0.0</td>\n",
       "      <td>0.0</td>\n",
       "      <td>0.061264</td>\n",
       "      <td>0.000000</td>\n",
       "      <td>0.061264</td>\n",
       "      <td>0.000000</td>\n",
       "      <td>0.061264</td>\n",
       "      <td>0.000000</td>\n",
       "    </tr>\n",
       "    <tr>\n",
       "      <th>4</th>\n",
       "      <td>0.037350</td>\n",
       "      <td>0.028902</td>\n",
       "      <td>0.0</td>\n",
       "      <td>0.0</td>\n",
       "      <td>0.0</td>\n",
       "      <td>0.062250</td>\n",
       "      <td>0.000000</td>\n",
       "      <td>0.0</td>\n",
       "      <td>0.000000</td>\n",
       "      <td>0.000000</td>\n",
       "      <td>0.062250</td>\n",
       "      <td>0.0</td>\n",
       "      <td>0.0</td>\n",
       "      <td>0.0</td>\n",
       "      <td>0.0</td>\n",
       "      <td>0.0</td>\n",
       "      <td>0.0</td>\n",
       "      <td>0.000000</td>\n",
       "      <td>0.062250</td>\n",
       "      <td>0.0</td>\n",
       "      <td>0.0</td>\n",
       "      <td>0.000000</td>\n",
       "      <td>0.0</td>\n",
       "      <td>0.000000</td>\n",
       "      <td>0.062250</td>\n",
       "      <td>0.062250</td>\n",
       "      <td>0.0</td>\n",
       "      <td>0.0</td>\n",
       "      <td>0.000000</td>\n",
       "      <td>0.062250</td>\n",
       "      <td>0.000000</td>\n",
       "      <td>0.000000</td>\n",
       "      <td>0.062250</td>\n",
       "      <td>0.0</td>\n",
       "      <td>0.062250</td>\n",
       "      <td>0.000000</td>\n",
       "      <td>0.062250</td>\n",
       "      <td>0.000000</td>\n",
       "      <td>0.062250</td>\n",
       "      <td>0.000000</td>\n",
       "      <td>0.062250</td>\n",
       "      <td>0.062250</td>\n",
       "      <td>0.000000</td>\n",
       "      <td>0.0</td>\n",
       "      <td>0.0</td>\n",
       "      <td>0.062250</td>\n",
       "      <td>0.000000</td>\n",
       "      <td>0.000000</td>\n",
       "      <td>0.062250</td>\n",
       "      <td>0.000000</td>\n",
       "      <td>0.062250</td>\n",
       "    </tr>\n",
       "  </tbody>\n",
       "</table>\n",
       "</div>"
      ],
      "text/plain": [
       "   EMI_TENURE  TRANSACTION_AMOUNT  NUMBER_CREDITS  \\\n",
       "0    0.027542            0.033533             0.0   \n",
       "1    0.041751            0.037277             0.0   \n",
       "2    0.029971            0.033449             0.0   \n",
       "3    0.041659            0.039384             0.0   \n",
       "4    0.037350            0.028902             0.0   \n",
       "\n",
       "   CREDIT_HISTORY_ALL CREDITS PAID BACK  CREDIT_HISTORY_CRITICAL ACCOUNT  \\\n",
       "0                                   0.0                              0.0   \n",
       "1                                   0.0                              0.0   \n",
       "2                                   0.0                              0.0   \n",
       "3                                   0.0                              0.0   \n",
       "4                                   0.0                              0.0   \n",
       "\n",
       "   CREDIT_HISTORY_DELAY IN PAST  CREDIT_HISTORY_EXISTING CREDITS PAID BACK  \\\n",
       "0                      0.000000                                   0.062595   \n",
       "1                      0.000000                                   0.061398   \n",
       "2                      0.000000                                   0.062439   \n",
       "3                      0.061264                                   0.000000   \n",
       "4                      0.062250                                   0.000000   \n",
       "\n",
       "   CREDIT_HISTORY_NONE TAKEN  TRANSACTION_CATEGORY_EDUCATION  \\\n",
       "0                        0.0                        0.062595   \n",
       "1                        0.0                        0.000000   \n",
       "2                        0.0                        0.000000   \n",
       "3                        0.0                        0.000000   \n",
       "4                        0.0                        0.000000   \n",
       "\n",
       "   TRANSACTION_CATEGORY_ELECTRONICS  TRANSACTION_CATEGORY_FURNITURE  \\\n",
       "0                          0.000000                        0.000000   \n",
       "1                          0.061398                        0.000000   \n",
       "2                          0.000000                        0.062439   \n",
       "3                          0.000000                        0.061264   \n",
       "4                          0.000000                        0.062250   \n",
       "\n",
       "   TRANSACTION_CATEGORY_NEW CAR  TRANSACTION_CATEGORY_OTHER  \\\n",
       "0                           0.0                         0.0   \n",
       "1                           0.0                         0.0   \n",
       "2                           0.0                         0.0   \n",
       "3                           0.0                         0.0   \n",
       "4                           0.0                         0.0   \n",
       "\n",
       "   TRANSACTION_CATEGORY_RETRAINING  TRANSACTION_CATEGORY_USED CAR  \\\n",
       "0                              0.0                            0.0   \n",
       "1                              0.0                            0.0   \n",
       "2                              0.0                            0.0   \n",
       "3                              0.0                            0.0   \n",
       "4                              0.0                            0.0   \n",
       "\n",
       "   ACCOUNT_TYPE_100 to 500 K USD  ACCOUNT_TYPE_500 to 1000 K USD  \\\n",
       "0                            0.0                             0.0   \n",
       "1                            0.0                             0.0   \n",
       "2                            0.0                             0.0   \n",
       "3                            0.0                             0.0   \n",
       "4                            0.0                             0.0   \n",
       "\n",
       "   ACCOUNT_TYPE_UNKNOWN/NONE  ACCOUNT_TYPE_above 1000 K USD  \\\n",
       "0                   0.062595                       0.000000   \n",
       "1                   0.000000                       0.061398   \n",
       "2                   0.000000                       0.062439   \n",
       "3                   0.000000                       0.061264   \n",
       "4                   0.000000                       0.062250   \n",
       "\n",
       "   ACCOUNT_TYPE_up to 100 K USD  ACCOUNT_AGE_1 to 4 YRS  \\\n",
       "0                           0.0                     0.0   \n",
       "1                           0.0                     0.0   \n",
       "2                           0.0                     0.0   \n",
       "3                           0.0                     0.0   \n",
       "4                           0.0                     0.0   \n",
       "\n",
       "   ACCOUNT_AGE_4 to 7 YRS  ACCOUNT_AGE_TBD  ACCOUNT_AGE_above 7 YRS  \\\n",
       "0                0.000000              0.0                 0.062595   \n",
       "1                0.061398              0.0                 0.000000   \n",
       "2                0.062439              0.0                 0.000000   \n",
       "3                0.000000              0.0                 0.000000   \n",
       "4                0.000000              0.0                 0.000000   \n",
       "\n",
       "   ACCOUNT_AGE_up to 1 YR  STATE_CT  STATE_NJ  STATE_NY  STATE_PA  \\\n",
       "0                0.000000  0.062595       0.0       0.0  0.000000   \n",
       "1                0.000000  0.061398       0.0       0.0  0.000000   \n",
       "2                0.000000  0.000000       0.0       0.0  0.062439   \n",
       "3                0.061264  0.000000       0.0       0.0  0.061264   \n",
       "4                0.062250  0.062250       0.0       0.0  0.000000   \n",
       "\n",
       "   IS_URBAN_NO  IS_URBAN_YES  IS_STATE_BORDER_NO  IS_STATE_BORDER_YES  \\\n",
       "0     0.062595      0.000000            0.000000             0.062595   \n",
       "1     0.000000      0.061398            0.000000             0.061398   \n",
       "2     0.062439      0.000000            0.062439             0.000000   \n",
       "3     0.000000      0.061264            0.061264             0.000000   \n",
       "4     0.062250      0.000000            0.000000             0.062250   \n",
       "\n",
       "   HAS_CO_APPLICANT_NO  HAS_CO_APPLICANT_YES  HAS_GUARANTOR_NO  \\\n",
       "0                  0.0              0.062595          0.000000   \n",
       "1                  0.0              0.061398          0.000000   \n",
       "2                  0.0              0.062439          0.000000   \n",
       "3                  0.0              0.061264          0.061264   \n",
       "4                  0.0              0.062250          0.000000   \n",
       "\n",
       "   HAS_GUARANTOR_YES  OWN_REAL_ESTATE_NO  OWN_REAL_ESTATE_YES  \\\n",
       "0           0.062595            0.062595             0.000000   \n",
       "1           0.061398            0.061398             0.000000   \n",
       "2           0.062439            0.000000             0.062439   \n",
       "3           0.000000            0.061264             0.000000   \n",
       "4           0.062250            0.000000             0.062250   \n",
       "\n",
       "   OTHER_INSTALMENT_PLAN_NO  OTHER_INSTALMENT_PLAN_YES  OWN_RESIDENCE_NO  \\\n",
       "0                  0.000000                   0.062595          0.062595   \n",
       "1                  0.061398                   0.000000          0.000000   \n",
       "2                  0.062439                   0.000000          0.000000   \n",
       "3                  0.061264                   0.000000          0.000000   \n",
       "4                  0.000000                   0.062250          0.062250   \n",
       "\n",
       "   OWN_RESIDENCE_YES  RFM_SCORE_1  RFM_SCORE_2  RFM_SCORE_3  RFM_SCORE_4  \\\n",
       "0           0.000000          0.0          0.0     0.000000     0.062595   \n",
       "1           0.061398          0.0          0.0     0.061398     0.000000   \n",
       "2           0.062439          0.0          0.0     0.062439     0.000000   \n",
       "3           0.061264          0.0          0.0     0.061264     0.000000   \n",
       "4           0.000000          0.0          0.0     0.062250     0.000000   \n",
       "\n",
       "   OWN_CAR_NO  OWN_CAR_YES  SHIP_INTERNATIONAL_NO  SHIP_INTERNATIONAL_YES  \n",
       "0    0.062595     0.000000               0.062595                0.000000  \n",
       "1    0.000000     0.061398               0.000000                0.061398  \n",
       "2    0.000000     0.062439               0.000000                0.062439  \n",
       "3    0.061264     0.000000               0.061264                0.000000  \n",
       "4    0.000000     0.062250               0.000000                0.062250  "
      ]
     },
     "execution_count": 29,
     "metadata": {},
     "output_type": "execute_result"
    }
   ],
   "source": [
    "min_max_scaler = MinMaxScaler()\n",
    "features = min_max_scaler.fit_transform(cust_pd_X)\n",
    "features = normalize(features, axis=1, norm='l1')\n",
    "\n",
    "cust_pd_X = pd.DataFrame(features,columns=cust_pd_X.columns)\n",
    "cust_pd_X.head()"
   ]
  },
  {
   "cell_type": "markdown",
   "metadata": {},
   "source": [
    "## Split Train and Test Dataset"
   ]
  },
  {
   "cell_type": "code",
   "execution_count": 30,
   "metadata": {},
   "outputs": [
    {
     "name": "stdout",
     "output_type": "stream",
     "text": [
      "X_train.shape= (7000000, 51) Y_train.shape= (7000000, 1)\n",
      "X_test.shape= (3000000, 51) Y_test.shape= (3000000, 1)\n"
     ]
    }
   ],
   "source": [
    "label    = cust_pd_Y.values\n",
    "features  = cust_pd_X.values\n",
    "\n",
    "label = np.reshape(label,(-1,1))\n",
    "X_train,X_test,y_train,y_test = \\\n",
    "       train_test_split(features, label, test_size=0.3, random_state=42, stratify=label)\n",
    "print('X_train.shape=', X_train.shape, 'Y_train.shape=', y_train.shape)\n",
    "print('X_test.shape=', X_test.shape, 'Y_test.shape=', y_test.shape)\n",
    "\n",
    "\n"
   ]
  },
  {
   "cell_type": "markdown",
   "metadata": {},
   "source": [
    "# Train a Logistic Regression Model using Scikit-Learn"
   ]
  },
  {
   "cell_type": "code",
   "execution_count": 31,
   "metadata": {},
   "outputs": [],
   "source": [
    "from sklearn.linear_model import LogisticRegression\n",
    "sklearn_lr = LogisticRegression() "
   ]
  },
  {
   "cell_type": "code",
   "execution_count": 32,
   "metadata": {},
   "outputs": [
    {
     "name": "stdout",
     "output_type": "stream",
     "text": [
      "[sklearn] Training time (s):  158.35\n",
      "[sklearn] Accuracy score : 0.959824\n"
     ]
    }
   ],
   "source": [
    "# Train a logistic regression model using Scikit-Learn\n",
    "t0 = time.time()\n",
    "sklearn_lr.fit(X_train, y_train)\n",
    "sklearn_time = time.time() - t0\n",
    "print(\"[sklearn] Training time (s):  {0:.2f}\".format(sklearn_time))\n",
    "\n",
    "# Evaluate accuracy on test set\n",
    "sklearn_pred = sklearn_lr.predict(X_test)\n",
    "print('[sklearn] Accuracy score : {0:.6f}'.format(accuracy_score(y_test, sklearn_pred)))"
   ]
  },
  {
   "cell_type": "markdown",
   "metadata": {},
   "source": [
    "# Train a Logistic Regression Model using Snap ML"
   ]
  },
  {
   "cell_type": "code",
   "execution_count": 37,
   "metadata": {
    "scrolled": true
   },
   "outputs": [],
   "source": [
    "from pai4sk import LogisticRegression\n",
    "#snapml_lr = LogisticRegression(use_gpu=True, device_ids=[0], num_threads=32)\n",
    "#Use the below if you running on Power with at least 2 GPUs\n",
    "snapml_lr = LogisticRegression(use_gpu=True, device_ids=[0,1], num_threads=128)"
   ]
  },
  {
   "cell_type": "code",
   "execution_count": 38,
   "metadata": {},
   "outputs": [
    {
     "name": "stdout",
     "output_type": "stream",
     "text": [
      "[Snap ML] Training time (s):  2.29596\n",
      "[Snap ML] Accuracy score : 0.959836\n",
      "[Logistic Regression] Snap ML vs. sklearn speedup : 68.97x \n"
     ]
    }
   ],
   "source": [
    "# Train a logistic regression model using Snap ML\n",
    "import time\n",
    "t0 = time.time()\n",
    "model = snapml_lr.fit(X_train, y_train)\n",
    "snapml_time = time.time() - t0\n",
    "print(\"[Snap ML] Training time (s):  {0:.5f}\".format(snapml_time))\n",
    "\n",
    "# Evaluate accuracy on test set\n",
    "snapml_pred = snapml_lr.predict(X_test)\n",
    "print('[Snap ML] Accuracy score : {0:.6f}'.format(accuracy_score(y_test, snapml_pred)))\n",
    "print('[Logistic Regression] Snap ML vs. sklearn speedup : {0:.2f}x '.format(sklearn_time/snapml_time))"
   ]
  },
  {
   "cell_type": "markdown",
   "metadata": {},
   "source": [
    "# Train a Random Forest Model using Scikit-Learn"
   ]
  },
  {
   "cell_type": "code",
   "execution_count": 39,
   "metadata": {},
   "outputs": [],
   "source": [
    "# Import the Random Forest model from the pai4sk package\n",
    "from sklearn.ensemble import RandomForestClassifier\n",
    "sklearn_rf = RandomForestClassifier(n_estimators=16, n_jobs=8, random_state=0)"
   ]
  },
  {
   "cell_type": "code",
   "execution_count": 40,
   "metadata": {},
   "outputs": [
    {
     "name": "stdout",
     "output_type": "stream",
     "text": [
      "[sklearn] Training time (s):  158.83952\n",
      "[sklearn] Accuracy score :  0.980082\n"
     ]
    }
   ],
   "source": [
    "# Training a random forest model using scikit-learn\n",
    "t0 = time.time()\n",
    "sklearn_rf.fit(X_train, y_train)\n",
    "sklearn_time = time.time() - t0\n",
    "print(\"[sklearn] Training time (s):  {0:.5f}\".format(sklearn_time))\n",
    "\n",
    "# Evaluate accuracy on test set\n",
    "sklearn_pred = sklearn_rf.predict(X_test)\n",
    "print('[sklearn] Accuracy score : ', accuracy_score(y_test, sklearn_pred))"
   ]
  },
  {
   "cell_type": "markdown",
   "metadata": {},
   "source": [
    "# Train a Random Forest Model using Snap ML"
   ]
  },
  {
   "cell_type": "code",
   "execution_count": 41,
   "metadata": {},
   "outputs": [],
   "source": [
    "# Import the Random Forest model directly from the SnapML package\n",
    "from pai4sk import RandomForestClassifier\n",
    "#Use the below line for snapml with CPU\n",
    "#snapml_rf = RandomForestClassifier(n_estimators=16, n_jobs=8, random_state=0)\n",
    "#Use the below for snapml with 1 GPU\n",
    "#snapml_rf = RandomForestClassifier(n_estimators=16, n_jobs=8, random_state=0, max_depth=16, use_histograms=True,use_gpu=True, gpu_ids=[0])\n",
    "#Use the below for snapml with 2GPU\n",
    "snapml_rf = RandomForestClassifier(n_estimators=16, n_jobs=8, random_state=0, max_depth=16, use_histograms=True,use_gpu=True, gpu_ids=[0,1])"
   ]
  },
  {
   "cell_type": "code",
   "execution_count": 42,
   "metadata": {},
   "outputs": [
    {
     "name": "stdout",
     "output_type": "stream",
     "text": [
      "[Snap ML] Training time (s):  17.06468\n",
      "[Snap ML] Accuracy score : 0.978847\n",
      "[Random Forest] Snap ML vs. sklearn speedup : 9.31x \n"
     ]
    }
   ],
   "source": [
    "# Training a random forest model using Snap ML\n",
    "t0 = time.time()\n",
    "snapml_rf.fit(X_train, y_train)\n",
    "snapml_time = time.time()-t0\n",
    "print(\"[Snap ML] Training time (s):  {0:.5f}\".format(snapml_time))\n",
    "\n",
    "# Evaluate accuracy on test set\n",
    "snapml_pred = snapml_rf.predict(X_test, num_threads=128)\n",
    "#print(snapml_pred)\n",
    "print('[Snap ML] Accuracy score : {0:.6f}'.format(accuracy_score(y_test, snapml_pred)))\n",
    "print('[Random Forest] Snap ML vs. sklearn speedup : {0:.2f}x '.format(sklearn_time/snapml_time))"
   ]
  },
  {
   "cell_type": "markdown",
   "metadata": {},
   "source": [
    "# Train a Random Forest Model using SnapBoost"
   ]
  },
  {
   "cell_type": "code",
   "execution_count": 43,
   "metadata": {},
   "outputs": [],
   "source": [
    "from pai4sk import BoostingMachine\n",
    "#Use the below if \n",
    "#snapboost = BoostingMachine(random_state=0,objective='logloss', use_gpu=False)\n",
    "snapboost = BoostingMachine(random_state=0,objective='logloss', use_histograms=True, use_gpu=True)\n",
    "#Snapboost on GPU only works with use_histogram=True"
   ]
  },
  {
   "cell_type": "code",
   "execution_count": 44,
   "metadata": {},
   "outputs": [
    {
     "name": "stdout",
     "output_type": "stream",
     "text": [
      "[SnapBoost] Training time (s):  8.03825\n",
      "[SnapBoost] Accuracy score : 0.951593\n",
      "[Random Forest] SnapBoost vs. sklearn speedup : 19.76x \n"
     ]
    }
   ],
   "source": [
    "t0 = time.time()\n",
    "snapboost.fit(X_train, y_train)\n",
    "snapboost_time = time.time()-t0\n",
    "print(\"[SnapBoost] Training time (s):  {0:.5f}\".format(snapboost_time))\n",
    "\n",
    "# Evaluate accuracy on test set\n",
    "snapboost_pred = snapboost.predict(X_test)\n",
    "snapboost_pred[snapboost_pred < 0] = 0\n",
    "snapboost_pred[snapboost_pred > 0] = 1\n",
    "#print(snapboost_pred)\n",
    "print('[SnapBoost] Accuracy score : {0:.6f}'.format(accuracy_score(y_test, snapboost_pred)))\n",
    "print('[Random Forest] SnapBoost vs. sklearn speedup : {0:.2f}x '.format(sklearn_time/snapboost_time))"
   ]
  },
  {
   "cell_type": "markdown",
   "metadata": {},
   "source": [
    "# Train a Random Forest Model using XGBoost"
   ]
  },
  {
   "cell_type": "code",
   "execution_count": 46,
   "metadata": {},
   "outputs": [],
   "source": [
    "import xgboost as xgb\n",
    "from sklearn.datasets import fetch_covtype\n",
    "from sklearn.model_selection import train_test_split"
   ]
  },
  {
   "cell_type": "code",
   "execution_count": 47,
   "metadata": {},
   "outputs": [],
   "source": [
    "dtrain = xgb.DMatrix(X_train, label=y_train)\n",
    "dtest = xgb.DMatrix(X_test, label=y_test)"
   ]
  },
  {
   "cell_type": "code",
   "execution_count": 50,
   "metadata": {},
   "outputs": [],
   "source": [
    "param_gpu = {'objective': 'binary:logistic', # Specify multiclass classification\n",
    "             'num_class': 1, # Number of possible output classes\n",
    "             'tree_method': 'gpu_hist', # Use GPU accelerated algorithm\n",
    "             'n_gpus': 1, # Use one GPU\n",
    "             'gpu_id': 0  # Use GPU with device-id 0\n",
    "            }"
   ]
  },
  {
   "cell_type": "code",
   "execution_count": 51,
   "metadata": {},
   "outputs": [],
   "source": [
    "# To train a model with higher accuracy num_rounds has to be increased e.g. 3000\n",
    "# as shown in here https://github.com/dmlc/xgboost/blob/bf3241368256ddd010d30d98ffc8a0a005f166e9/demo/gpu_acceleration/cover_type.py#L17\n",
    "# but it takes a very long time to train in a CPU!\n",
    "# Reduced the num_rounds to a very low value for CPU training to complete in reasonable time\n",
    "num_round = 20"
   ]
  },
  {
   "cell_type": "code",
   "execution_count": 52,
   "metadata": {},
   "outputs": [
    {
     "name": "stdout",
     "output_type": "stream",
     "text": [
      "[0]\ttest-error:0.048605\n",
      "[1]\ttest-error:0.043363\n",
      "[2]\ttest-error:0.041687\n",
      "[3]\ttest-error:0.037812\n",
      "[4]\ttest-error:0.036709\n",
      "[5]\ttest-error:0.035717\n",
      "[6]\ttest-error:0.034513\n",
      "[7]\ttest-error:0.03351\n",
      "[8]\ttest-error:0.032235\n",
      "[9]\ttest-error:0.03216\n",
      "[10]\ttest-error:0.031375\n",
      "[11]\ttest-error:0.030658\n",
      "[12]\ttest-error:0.02935\n",
      "[13]\ttest-error:0.02824\n",
      "[14]\ttest-error:0.027605\n",
      "[15]\ttest-error:0.027129\n",
      "[16]\ttest-error:0.026767\n",
      "[17]\ttest-error:0.025649\n",
      "[18]\ttest-error:0.025436\n",
      "[19]\ttest-error:0.025159\n",
      "[XGBoost] Training time (s):  18.89075\n",
      "[XGBoost] Accuracy: 97.48%\n"
     ]
    }
   ],
   "source": [
    "gpu_res = {} # Store accuracy result\n",
    "tmp = time.time()\n",
    "bst = xgb.train(param_gpu, dtrain, num_round, evals=[(dtest, 'test')], evals_result=gpu_res)\n",
    "xgboost_pred = bst.predict(dtest)\n",
    "predictions = [round(value) for value in xgboost_pred]\n",
    "# evaluate predictions\n",
    "accuracy = accuracy_score(y_test, predictions)\n",
    "print(\"[XGBoost] Training time (s):  {0:.5f}\".format((time.time() - tmp)))\n",
    "print(\"[XGBoost] Accuracy: %.2f%%\" % (accuracy * 100.0))"
   ]
  },
  {
   "cell_type": "code",
   "execution_count": 61,
   "metadata": {},
   "outputs": [],
   "source": [
    "#https://ibmsoe.github.io/snap-ml-doc/v1.5.0/index.html\n",
    "#Original code from Haris Pozidis\n",
    "#Modified by Gilbert Thomas on Feb 23rd 2020 \n",
    "#Added SnapBoost\n",
    "#Added XGBoost\n",
    "#Changed link to dataset as box link is broken.\n",
    "#Added dependencies at the top\n",
    "#Modified by Gilbert Thomas on June 11 2020 \n",
    "#Added if-else to stop from downloading dataset if present\n",
    "#Changed dataset location to current directory\n"
   ]
  },
  {
   "cell_type": "markdown",
   "metadata": {},
   "source": [
    "&copy; Copyright IBM Corporation 2018, 2020"
   ]
  }
 ],
 "metadata": {
  "kernelspec": {
   "display_name": "Python 3",
   "language": "python",
   "name": "python3"
  },
  "language_info": {
   "codemirror_mode": {
    "name": "ipython",
    "version": 3
   },
   "file_extension": ".py",
   "mimetype": "text/x-python",
   "name": "python",
   "nbconvert_exporter": "python",
   "pygments_lexer": "ipython3",
   "version": "3.7.7"
  }
 },
 "nbformat": 4,
 "nbformat_minor": 2
}
